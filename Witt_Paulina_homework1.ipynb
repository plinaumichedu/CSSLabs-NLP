{
  "cells": [
    {
      "cell_type": "markdown",
      "metadata": {
        "id": "view-in-github",
        "colab_type": "text"
      },
      "source": [
        "<a href=\"https://colab.research.google.com/github/plinaumichedu/CSSLabs-NLP/blob/master/Witt_Paulina_homework1.ipynb\" target=\"_parent\"><img src=\"https://colab.research.google.com/assets/colab-badge.svg\" alt=\"Open In Colab\"/></a>"
      ]
    },
    {
      "cell_type": "code",
      "execution_count": 2,
      "metadata": {
        "deletable": false,
        "editable": false,
        "nbgrader": {
          "grade": false,
          "grade_id": "cell-1be04a157d86c84b",
          "locked": true,
          "schema_version": 3,
          "solution": false
        },
        "id": "7GNdeFv5gvmF",
        "colab": {
          "base_uri": "https://localhost:8080/"
        },
        "outputId": "98fc0a5d-5131-4333-8908-96b93f600650"
      },
      "outputs": [
        {
          "output_type": "stream",
          "name": "stderr",
          "text": [
            "Warning message in system(\"timedatectl\", intern = TRUE):\n",
            "“running command 'timedatectl' had status 1”\n",
            "── \u001b[1mAttaching packages\u001b[22m ─────────────────────────────────────── tidyverse 1.3.1 ──\n",
            "\n",
            "\u001b[32m✔\u001b[39m \u001b[34mggplot2\u001b[39m 3.4.0      \u001b[32m✔\u001b[39m \u001b[34mpurrr  \u001b[39m 0.3.5 \n",
            "\u001b[32m✔\u001b[39m \u001b[34mtibble \u001b[39m 3.1.8      \u001b[32m✔\u001b[39m \u001b[34mdplyr  \u001b[39m 1.0.10\n",
            "\u001b[32m✔\u001b[39m \u001b[34mtidyr  \u001b[39m 1.2.1      \u001b[32m✔\u001b[39m \u001b[34mstringr\u001b[39m 1.4.1 \n",
            "\u001b[32m✔\u001b[39m \u001b[34mreadr  \u001b[39m 2.1.3      \u001b[32m✔\u001b[39m \u001b[34mforcats\u001b[39m 0.5.2 \n",
            "\n",
            "── \u001b[1mConflicts\u001b[22m ────────────────────────────────────────── tidyverse_conflicts() ──\n",
            "\u001b[31m✖\u001b[39m \u001b[34mdplyr\u001b[39m::\u001b[32mfilter()\u001b[39m masks \u001b[34mstats\u001b[39m::filter()\n",
            "\u001b[31m✖\u001b[39m \u001b[34mdplyr\u001b[39m::\u001b[32mlag()\u001b[39m    masks \u001b[34mstats\u001b[39m::lag()\n",
            "\n",
            "Installing package into ‘/usr/local/lib/R/site-library’\n",
            "(as ‘lib’ is unspecified)\n",
            "\n"
          ]
        }
      ],
      "source": [
        "library(tidyverse)\n",
        "install.packages('nycflights13')\n",
        "library(nycflights13)\n",
        "options(repr.plot.width=5, repr.plot.height=4)"
      ]
    },
    {
      "cell_type": "markdown",
      "metadata": {
        "deletable": false,
        "editable": false,
        "nbgrader": {
          "grade": false,
          "grade_id": "cell-281caadd66986182",
          "locked": true,
          "schema_version": 3,
          "solution": false
        },
        "run_control": {
          "frozen": true
        },
        "id": "goM3FUB7gvmQ"
      },
      "source": [
        "# STATS 306\n",
        "## Homework 1: Plotting and data manipulation\n",
        "\n",
        "- Each problem is worth one or two points for a total of 10. \n",
        "- For each problem, enter the R code in the cell provided marked \"YOUR SOLUTION HERE\"."
      ]
    },
    {
      "cell_type": "markdown",
      "metadata": {
        "deletable": false,
        "editable": false,
        "run_control": {
          "frozen": true
        },
        "id": "1qgzELmigvmT"
      },
      "source": [
        "## Problem 1: Recap of Lecture 1 (2 pts)"
      ]
    },
    {
      "cell_type": "markdown",
      "metadata": {
        "deletable": false,
        "editable": false,
        "run_control": {
          "frozen": true
        },
        "id": "j88cyEaSgvmU"
      },
      "source": [
        "**(a)** Write the command to install the package `tidyverse`. For this problem, you can comment out the command using # so that you do not need to reinstall your `tidyverse` package. Then, load the `tidyverse` package into your current environment.  _1/2 point_"
      ]
    },
    {
      "cell_type": "code",
      "execution_count": 3,
      "metadata": {
        "id": "ze5FWkRKgvmU"
      },
      "outputs": [],
      "source": [
        "library(tidyverse)"
      ]
    },
    {
      "cell_type": "markdown",
      "metadata": {
        "deletable": false,
        "editable": false,
        "run_control": {
          "frozen": true
        },
        "id": "UMEuaWkYgvmV"
      },
      "source": [
        "**(b)** Write the command to get more information on the `trees` data set. What is the `trees` dataset about? Output the `trees` first 6 rows of the data set. _1 point_"
      ]
    },
    {
      "cell_type": "code",
      "execution_count": 4,
      "metadata": {
        "id": "fuWrfpxpgvmf",
        "colab": {
          "base_uri": "https://localhost:8080/",
          "height": 1000
        },
        "outputId": "7dbe3f85-0448-4820-c214-3bee80387c78"
      },
      "outputs": [
        {
          "output_type": "display_data",
          "data": {
            "text/html": [
              "<table class=\"dataframe\">\n",
              "<caption>A data.frame: 31 × 3</caption>\n",
              "<thead>\n",
              "\t<tr><th scope=col>Girth</th><th scope=col>Height</th><th scope=col>Volume</th></tr>\n",
              "\t<tr><th scope=col>&lt;dbl&gt;</th><th scope=col>&lt;dbl&gt;</th><th scope=col>&lt;dbl&gt;</th></tr>\n",
              "</thead>\n",
              "<tbody>\n",
              "\t<tr><td> 8.3</td><td>70</td><td>10.3</td></tr>\n",
              "\t<tr><td> 8.6</td><td>65</td><td>10.3</td></tr>\n",
              "\t<tr><td> 8.8</td><td>63</td><td>10.2</td></tr>\n",
              "\t<tr><td>10.5</td><td>72</td><td>16.4</td></tr>\n",
              "\t<tr><td>10.7</td><td>81</td><td>18.8</td></tr>\n",
              "\t<tr><td>10.8</td><td>83</td><td>19.7</td></tr>\n",
              "\t<tr><td>11.0</td><td>66</td><td>15.6</td></tr>\n",
              "\t<tr><td>11.0</td><td>75</td><td>18.2</td></tr>\n",
              "\t<tr><td>11.1</td><td>80</td><td>22.6</td></tr>\n",
              "\t<tr><td>11.2</td><td>75</td><td>19.9</td></tr>\n",
              "\t<tr><td>11.3</td><td>79</td><td>24.2</td></tr>\n",
              "\t<tr><td>11.4</td><td>76</td><td>21.0</td></tr>\n",
              "\t<tr><td>11.4</td><td>76</td><td>21.4</td></tr>\n",
              "\t<tr><td>11.7</td><td>69</td><td>21.3</td></tr>\n",
              "\t<tr><td>12.0</td><td>75</td><td>19.1</td></tr>\n",
              "\t<tr><td>12.9</td><td>74</td><td>22.2</td></tr>\n",
              "\t<tr><td>12.9</td><td>85</td><td>33.8</td></tr>\n",
              "\t<tr><td>13.3</td><td>86</td><td>27.4</td></tr>\n",
              "\t<tr><td>13.7</td><td>71</td><td>25.7</td></tr>\n",
              "\t<tr><td>13.8</td><td>64</td><td>24.9</td></tr>\n",
              "\t<tr><td>14.0</td><td>78</td><td>34.5</td></tr>\n",
              "\t<tr><td>14.2</td><td>80</td><td>31.7</td></tr>\n",
              "\t<tr><td>14.5</td><td>74</td><td>36.3</td></tr>\n",
              "\t<tr><td>16.0</td><td>72</td><td>38.3</td></tr>\n",
              "\t<tr><td>16.3</td><td>77</td><td>42.6</td></tr>\n",
              "\t<tr><td>17.3</td><td>81</td><td>55.4</td></tr>\n",
              "\t<tr><td>17.5</td><td>82</td><td>55.7</td></tr>\n",
              "\t<tr><td>17.9</td><td>80</td><td>58.3</td></tr>\n",
              "\t<tr><td>18.0</td><td>80</td><td>51.5</td></tr>\n",
              "\t<tr><td>18.0</td><td>80</td><td>51.0</td></tr>\n",
              "\t<tr><td>20.6</td><td>87</td><td>77.0</td></tr>\n",
              "</tbody>\n",
              "</table>\n"
            ],
            "text/markdown": "\nA data.frame: 31 × 3\n\n| Girth &lt;dbl&gt; | Height &lt;dbl&gt; | Volume &lt;dbl&gt; |\n|---|---|---|\n|  8.3 | 70 | 10.3 |\n|  8.6 | 65 | 10.3 |\n|  8.8 | 63 | 10.2 |\n| 10.5 | 72 | 16.4 |\n| 10.7 | 81 | 18.8 |\n| 10.8 | 83 | 19.7 |\n| 11.0 | 66 | 15.6 |\n| 11.0 | 75 | 18.2 |\n| 11.1 | 80 | 22.6 |\n| 11.2 | 75 | 19.9 |\n| 11.3 | 79 | 24.2 |\n| 11.4 | 76 | 21.0 |\n| 11.4 | 76 | 21.4 |\n| 11.7 | 69 | 21.3 |\n| 12.0 | 75 | 19.1 |\n| 12.9 | 74 | 22.2 |\n| 12.9 | 85 | 33.8 |\n| 13.3 | 86 | 27.4 |\n| 13.7 | 71 | 25.7 |\n| 13.8 | 64 | 24.9 |\n| 14.0 | 78 | 34.5 |\n| 14.2 | 80 | 31.7 |\n| 14.5 | 74 | 36.3 |\n| 16.0 | 72 | 38.3 |\n| 16.3 | 77 | 42.6 |\n| 17.3 | 81 | 55.4 |\n| 17.5 | 82 | 55.7 |\n| 17.9 | 80 | 58.3 |\n| 18.0 | 80 | 51.5 |\n| 18.0 | 80 | 51.0 |\n| 20.6 | 87 | 77.0 |\n\n",
            "text/latex": "A data.frame: 31 × 3\n\\begin{tabular}{lll}\n Girth & Height & Volume\\\\\n <dbl> & <dbl> & <dbl>\\\\\n\\hline\n\t  8.3 & 70 & 10.3\\\\\n\t  8.6 & 65 & 10.3\\\\\n\t  8.8 & 63 & 10.2\\\\\n\t 10.5 & 72 & 16.4\\\\\n\t 10.7 & 81 & 18.8\\\\\n\t 10.8 & 83 & 19.7\\\\\n\t 11.0 & 66 & 15.6\\\\\n\t 11.0 & 75 & 18.2\\\\\n\t 11.1 & 80 & 22.6\\\\\n\t 11.2 & 75 & 19.9\\\\\n\t 11.3 & 79 & 24.2\\\\\n\t 11.4 & 76 & 21.0\\\\\n\t 11.4 & 76 & 21.4\\\\\n\t 11.7 & 69 & 21.3\\\\\n\t 12.0 & 75 & 19.1\\\\\n\t 12.9 & 74 & 22.2\\\\\n\t 12.9 & 85 & 33.8\\\\\n\t 13.3 & 86 & 27.4\\\\\n\t 13.7 & 71 & 25.7\\\\\n\t 13.8 & 64 & 24.9\\\\\n\t 14.0 & 78 & 34.5\\\\\n\t 14.2 & 80 & 31.7\\\\\n\t 14.5 & 74 & 36.3\\\\\n\t 16.0 & 72 & 38.3\\\\\n\t 16.3 & 77 & 42.6\\\\\n\t 17.3 & 81 & 55.4\\\\\n\t 17.5 & 82 & 55.7\\\\\n\t 17.9 & 80 & 58.3\\\\\n\t 18.0 & 80 & 51.5\\\\\n\t 18.0 & 80 & 51.0\\\\\n\t 20.6 & 87 & 77.0\\\\\n\\end{tabular}\n",
            "text/plain": [
              "   Girth Height Volume\n",
              "1   8.3  70     10.3  \n",
              "2   8.6  65     10.3  \n",
              "3   8.8  63     10.2  \n",
              "4  10.5  72     16.4  \n",
              "5  10.7  81     18.8  \n",
              "6  10.8  83     19.7  \n",
              "7  11.0  66     15.6  \n",
              "8  11.0  75     18.2  \n",
              "9  11.1  80     22.6  \n",
              "10 11.2  75     19.9  \n",
              "11 11.3  79     24.2  \n",
              "12 11.4  76     21.0  \n",
              "13 11.4  76     21.4  \n",
              "14 11.7  69     21.3  \n",
              "15 12.0  75     19.1  \n",
              "16 12.9  74     22.2  \n",
              "17 12.9  85     33.8  \n",
              "18 13.3  86     27.4  \n",
              "19 13.7  71     25.7  \n",
              "20 13.8  64     24.9  \n",
              "21 14.0  78     34.5  \n",
              "22 14.2  80     31.7  \n",
              "23 14.5  74     36.3  \n",
              "24 16.0  72     38.3  \n",
              "25 16.3  77     42.6  \n",
              "26 17.3  81     55.4  \n",
              "27 17.5  82     55.7  \n",
              "28 17.9  80     58.3  \n",
              "29 18.0  80     51.5  \n",
              "30 18.0  80     51.0  \n",
              "31 20.6  87     77.0  "
            ]
          },
          "metadata": {}
        }
      ],
      "source": [
        "trees"
      ]
    },
    {
      "cell_type": "markdown",
      "metadata": {
        "deletable": false,
        "editable": false,
        "run_control": {
          "frozen": true
        },
        "id": "Vs97PC-Fgvmg"
      },
      "source": [
        "**(c)** How many rows and columns does `trees` have?  _1/2 point_"
      ]
    },
    {
      "cell_type": "code",
      "execution_count": 5,
      "metadata": {
        "id": "Y2FhPbh8gvmg",
        "colab": {
          "base_uri": "https://localhost:8080/",
          "height": 52
        },
        "outputId": "e89ce177-9b4c-4554-b7c9-0f2498cfa731"
      },
      "outputs": [
        {
          "output_type": "display_data",
          "data": {
            "text/html": [
              "31"
            ],
            "text/markdown": "31",
            "text/latex": "31",
            "text/plain": [
              "[1] 31"
            ]
          },
          "metadata": {}
        },
        {
          "output_type": "display_data",
          "data": {
            "text/html": [
              "3"
            ],
            "text/markdown": "3",
            "text/latex": "3",
            "text/plain": [
              "[1] 3"
            ]
          },
          "metadata": {}
        }
      ],
      "source": [
        "nrow(trees) \n",
        "# trees has 31 rows\n",
        "ncol(trees)\n",
        "# trees has 3 columns"
      ]
    },
    {
      "cell_type": "markdown",
      "metadata": {
        "deletable": false,
        "editable": false,
        "run_control": {
          "frozen": true
        },
        "id": "G9EgbOkdgvmh"
      },
      "source": [
        "**(d)** To create a scatterplot using `Height` and `Volume` variables in the `trees` data\n",
        "frame, Professor Terhorst uses the following command\n",
        "\n",
        "```\n",
        "ggplot() +\n",
        "    geom_point(mapping = (x = Height, y = Volume))\n",
        "```\n",
        "\n",
        "and R produces an error. \n",
        "\n",
        "Fix Professor Terhorst's code and type it below to produce a scatterplot. Output your results.  _1 point_"
      ]
    },
    {
      "cell_type": "code",
      "execution_count": 6,
      "metadata": {
        "id": "15WFowvcgvmi",
        "colab": {
          "base_uri": "https://localhost:8080/",
          "height": 257
        },
        "outputId": "cede7a23-8aab-4cc1-9e36-bf61ac2dc787"
      },
      "outputs": [
        {
          "output_type": "display_data",
          "data": {
            "text/plain": [
              "plot without title"
            ],
            "image/png": "[encoded data removed]"
          },
          "metadata": {
            "image/png": {
              "width": 300,
              "height": 240
            }
          }
        }
      ],
      "source": [
        "ggplot(trees, aes(x = Height, y = Volume)) + geom_point()"
      ]
    },
    {
      "cell_type": "markdown",
      "metadata": {
        "deletable": false,
        "editable": false,
        "nbgrader": {
          "grade": false,
          "grade_id": "cell-421557d86106e43b",
          "locked": true,
          "schema_version": 3,
          "solution": false
        },
        "run_control": {
          "frozen": true
        },
        "id": "xiqWm_gpgvmj"
      },
      "source": [
        "## Problem 2: Animals (3 pts)\n",
        "Problems 2 is based on the `animals` table, which is defined for you in the next cell."
      ]
    },
    {
      "cell_type": "code",
      "execution_count": 7,
      "metadata": {
        "deletable": false,
        "editable": false,
        "nbgrader": {
          "grade": false,
          "grade_id": "cell-88e1b70275693fee",
          "locked": true,
          "schema_version": 3,
          "solution": false
        },
        "id": "ufPeohd0gvmj",
        "colab": {
          "base_uri": "https://localhost:8080/",
          "height": 1000
        },
        "outputId": "692e81dc-8f2d-49b6-dab3-a82d753a804d"
      },
      "outputs": [
        {
          "output_type": "stream",
          "name": "stderr",
          "text": [
            "\n",
            "Attaching package: ‘MASS’\n",
            "\n",
            "\n",
            "The following object is masked from ‘package:dplyr’:\n",
            "\n",
            "    select\n",
            "\n",
            "\n"
          ]
        },
        {
          "output_type": "display_data",
          "data": {
            "text/html": [
              "<table class=\"dataframe\">\n",
              "<caption>A tibble: 28 × 3</caption>\n",
              "<thead>\n",
              "\t<tr><th scope=col>body</th><th scope=col>brain</th><th scope=col>species</th></tr>\n",
              "\t<tr><th scope=col>&lt;dbl&gt;</th><th scope=col>&lt;dbl&gt;</th><th scope=col>&lt;chr&gt;</th></tr>\n",
              "</thead>\n",
              "<tbody>\n",
              "\t<tr><td>    1.350</td><td>   8.1</td><td>Mountain beaver </td></tr>\n",
              "\t<tr><td>  465.000</td><td> 423.0</td><td>Cow             </td></tr>\n",
              "\t<tr><td>   36.330</td><td> 119.5</td><td>Grey wolf       </td></tr>\n",
              "\t<tr><td>   27.660</td><td> 115.0</td><td>Goat            </td></tr>\n",
              "\t<tr><td>    1.040</td><td>   5.5</td><td>Guinea pig      </td></tr>\n",
              "\t<tr><td>11700.000</td><td>  50.0</td><td>Dipliodocus     </td></tr>\n",
              "\t<tr><td> 2547.000</td><td>4603.0</td><td>Asian elephant  </td></tr>\n",
              "\t<tr><td>  187.100</td><td> 419.0</td><td>Donkey          </td></tr>\n",
              "\t<tr><td>  521.000</td><td> 655.0</td><td>Horse           </td></tr>\n",
              "\t<tr><td>   10.000</td><td> 115.0</td><td>Potar monkey    </td></tr>\n",
              "\t<tr><td>    3.300</td><td>  25.6</td><td>Cat             </td></tr>\n",
              "\t<tr><td>  529.000</td><td> 680.0</td><td>Giraffe         </td></tr>\n",
              "\t<tr><td>  207.000</td><td> 406.0</td><td>Gorilla         </td></tr>\n",
              "\t<tr><td>   62.000</td><td>1320.0</td><td>Human           </td></tr>\n",
              "\t<tr><td> 6654.000</td><td>5712.0</td><td>African elephant</td></tr>\n",
              "\t<tr><td> 9400.000</td><td>  70.0</td><td>Triceratops     </td></tr>\n",
              "\t<tr><td>    6.800</td><td> 179.0</td><td>Rhesus monkey   </td></tr>\n",
              "\t<tr><td>   35.000</td><td>  56.0</td><td>Kangaroo        </td></tr>\n",
              "\t<tr><td>    0.120</td><td>   1.0</td><td>Golden hamster  </td></tr>\n",
              "\t<tr><td>    0.023</td><td>   0.4</td><td>Mouse           </td></tr>\n",
              "\t<tr><td>    2.500</td><td>  12.1</td><td>Rabbit          </td></tr>\n",
              "\t<tr><td>   55.500</td><td> 175.0</td><td>Sheep           </td></tr>\n",
              "\t<tr><td>  100.000</td><td> 157.0</td><td>Jaguar          </td></tr>\n",
              "\t<tr><td>   52.160</td><td> 440.0</td><td>Chimpanzee      </td></tr>\n",
              "\t<tr><td>    0.280</td><td>   1.9</td><td>Rat             </td></tr>\n",
              "\t<tr><td>87000.000</td><td> 154.5</td><td>Brachiosaurus   </td></tr>\n",
              "\t<tr><td>    0.122</td><td>   3.0</td><td>Mole            </td></tr>\n",
              "\t<tr><td>  192.000</td><td> 180.0</td><td>Pig             </td></tr>\n",
              "</tbody>\n",
              "</table>\n"
            ],
            "text/markdown": "\nA tibble: 28 × 3\n\n| body &lt;dbl&gt; | brain &lt;dbl&gt; | species &lt;chr&gt; |\n|---|---|---|\n|     1.350 |    8.1 | Mountain beaver  |\n|   465.000 |  423.0 | Cow              |\n|    36.330 |  119.5 | Grey wolf        |\n|    27.660 |  115.0 | Goat             |\n|     1.040 |    5.5 | Guinea pig       |\n| 11700.000 |   50.0 | Dipliodocus      |\n|  2547.000 | 4603.0 | Asian elephant   |\n|   187.100 |  419.0 | Donkey           |\n|   521.000 |  655.0 | Horse            |\n|    10.000 |  115.0 | Potar monkey     |\n|     3.300 |   25.6 | Cat              |\n|   529.000 |  680.0 | Giraffe          |\n|   207.000 |  406.0 | Gorilla          |\n|    62.000 | 1320.0 | Human            |\n|  6654.000 | 5712.0 | African elephant |\n|  9400.000 |   70.0 | Triceratops      |\n|     6.800 |  179.0 | Rhesus monkey    |\n|    35.000 |   56.0 | Kangaroo         |\n|     0.120 |    1.0 | Golden hamster   |\n|     0.023 |    0.4 | Mouse            |\n|     2.500 |   12.1 | Rabbit           |\n|    55.500 |  175.0 | Sheep            |\n|   100.000 |  157.0 | Jaguar           |\n|    52.160 |  440.0 | Chimpanzee       |\n|     0.280 |    1.9 | Rat              |\n| 87000.000 |  154.5 | Brachiosaurus    |\n|     0.122 |    3.0 | Mole             |\n|   192.000 |  180.0 | Pig              |\n\n",
            "text/latex": "A tibble: 28 × 3\n\\begin{tabular}{lll}\n body & brain & species\\\\\n <dbl> & <dbl> & <chr>\\\\\n\\hline\n\t     1.350 &    8.1 & Mountain beaver \\\\\n\t   465.000 &  423.0 & Cow             \\\\\n\t    36.330 &  119.5 & Grey wolf       \\\\\n\t    27.660 &  115.0 & Goat            \\\\\n\t     1.040 &    5.5 & Guinea pig      \\\\\n\t 11700.000 &   50.0 & Dipliodocus     \\\\\n\t  2547.000 & 4603.0 & Asian elephant  \\\\\n\t   187.100 &  419.0 & Donkey          \\\\\n\t   521.000 &  655.0 & Horse           \\\\\n\t    10.000 &  115.0 & Potar monkey    \\\\\n\t     3.300 &   25.6 & Cat             \\\\\n\t   529.000 &  680.0 & Giraffe         \\\\\n\t   207.000 &  406.0 & Gorilla         \\\\\n\t    62.000 & 1320.0 & Human           \\\\\n\t  6654.000 & 5712.0 & African elephant\\\\\n\t  9400.000 &   70.0 & Triceratops     \\\\\n\t     6.800 &  179.0 & Rhesus monkey   \\\\\n\t    35.000 &   56.0 & Kangaroo        \\\\\n\t     0.120 &    1.0 & Golden hamster  \\\\\n\t     0.023 &    0.4 & Mouse           \\\\\n\t     2.500 &   12.1 & Rabbit          \\\\\n\t    55.500 &  175.0 & Sheep           \\\\\n\t   100.000 &  157.0 & Jaguar          \\\\\n\t    52.160 &  440.0 & Chimpanzee      \\\\\n\t     0.280 &    1.9 & Rat             \\\\\n\t 87000.000 &  154.5 & Brachiosaurus   \\\\\n\t     0.122 &    3.0 & Mole            \\\\\n\t   192.000 &  180.0 & Pig             \\\\\n\\end{tabular}\n",
            "text/plain": [
              "   body      brain  species         \n",
              "1      1.350    8.1 Mountain beaver \n",
              "2    465.000  423.0 Cow             \n",
              "3     36.330  119.5 Grey wolf       \n",
              "4     27.660  115.0 Goat            \n",
              "5      1.040    5.5 Guinea pig      \n",
              "6  11700.000   50.0 Dipliodocus     \n",
              "7   2547.000 4603.0 Asian elephant  \n",
              "8    187.100  419.0 Donkey          \n",
              "9    521.000  655.0 Horse           \n",
              "10    10.000  115.0 Potar monkey    \n",
              "11     3.300   25.6 Cat             \n",
              "12   529.000  680.0 Giraffe         \n",
              "13   207.000  406.0 Gorilla         \n",
              "14    62.000 1320.0 Human           \n",
              "15  6654.000 5712.0 African elephant\n",
              "16  9400.000   70.0 Triceratops     \n",
              "17     6.800  179.0 Rhesus monkey   \n",
              "18    35.000   56.0 Kangaroo        \n",
              "19     0.120    1.0 Golden hamster  \n",
              "20     0.023    0.4 Mouse           \n",
              "21     2.500   12.1 Rabbit          \n",
              "22    55.500  175.0 Sheep           \n",
              "23   100.000  157.0 Jaguar          \n",
              "24    52.160  440.0 Chimpanzee      \n",
              "25     0.280    1.9 Rat             \n",
              "26 87000.000  154.5 Brachiosaurus   \n",
              "27     0.122    3.0 Mole            \n",
              "28   192.000  180.0 Pig             "
            ]
          },
          "metadata": {}
        }
      ],
      "source": [
        "library(MASS)\n",
        "animals <- as_tibble(MASS::Animals) %>% mutate(species = rownames(MASS::Animals))\n",
        "animals"
      ]
    },
    {
      "cell_type": "markdown",
      "metadata": {
        "deletable": false,
        "editable": false,
        "nbgrader": {
          "grade": false,
          "grade_id": "cell-5118a4a3055e833a",
          "locked": true,
          "schema_version": 3,
          "solution": false
        },
        "run_control": {
          "frozen": true
        },
        "id": "8lJIjpx8gvmj"
      },
      "source": [
        "**(a)** How are brain mass and body mass related? Following the examples we saw in Lecture 1, reproduce the following two plots: _2 points_\n"
      ]
    },
    {
      "cell_type": "markdown",
      "metadata": {
        "deletable": false,
        "editable": false,
        "run_control": {
          "frozen": true
        },
        "id": "rWRgVmdzgvmk"
      },
      "source": [
        "![download.png](attachment:download.png)\n",
        "![download-2.png](attachment:download-2.png)"
      ]
    },
    {
      "cell_type": "code",
      "execution_count": 8,
      "metadata": {
        "nbgrader": {
          "grade": true,
          "grade_id": "cell-a4ab300885ad9f69",
          "locked": false,
          "points": 1,
          "schema_version": 3,
          "solution": true
        },
        "id": "GH98RVk9gvmk",
        "colab": {
          "base_uri": "https://localhost:8080/",
          "height": 497
        },
        "outputId": "fc950db5-121b-41b9-9bcb-0757caa0a2bc"
      },
      "outputs": [
        {
          "output_type": "display_data",
          "data": {
            "text/plain": [
              "plot without title"
            ],
            "image/png": "[encoded data removed]"
          },
          "metadata": {
            "image/png": {
              "width": 300,
              "height": 240
            }
          }
        },
        {
          "output_type": "display_data",
          "data": {
            "text/plain": [
              "plot without title"
            ],
            "image/png": "[encoded data removed]"
          },
          "metadata": {
            "image/png": {
              "width": 300,
              "height": 240
            }
          }
        }
      ],
      "source": [
        "# Your solution here\n",
        "#Figure 1:\n",
        "ggplot(animals, aes(x = brain, y = body)) + geom_point() +\n",
        "    labs(x = 'Brain mass (g)', y = 'Body mass (kg)') + ggtitle('Figure 1') + theme_grey()\n",
        "\n",
        "#Figure 2:  \n",
        "ggplot(animals, aes(x = brain, y = body)) + geom_point() +\n",
        "    labs(x = 'Brain mass (g)', y = 'Body mass (kg)') + ggtitle('Figure 1') + theme_grey() + scale_x_log10() + scale_y_log10()"
      ]
    },
    {
      "cell_type": "markdown",
      "metadata": {
        "deletable": false,
        "editable": false,
        "nbgrader": {
          "grade": false,
          "grade_id": "cell-a56e766b5f212272",
          "locked": true,
          "schema_version": 3,
          "solution": false
        },
        "run_control": {
          "frozen": true
        },
        "id": "3vBpCeKngvml"
      },
      "source": [
        "**(b)**\n",
        "The preceding plot indicates that the log of brain mass is linearly related to the log of body mass. Check this by computing the correlation of brain mass with body mass, and compare that with the correlation between the logs of those two quantities. (*Hint*: R contains a built-in function for computing the correlation of two vectors.) _1 point_"
      ]
    },
    {
      "cell_type": "code",
      "execution_count": 12,
      "metadata": {
        "nbgrader": {
          "grade": true,
          "grade_id": "cell-abce7a55a0ab352e",
          "locked": false,
          "points": 1,
          "schema_version": 3,
          "solution": true
        },
        "id": "zpXotWMKgvml",
        "colab": {
          "base_uri": "https://localhost:8080/",
          "height": 52
        },
        "outputId": "c535da57-e58b-4d35-abaa-632ee327d0f3"
      },
      "outputs": [
        {
          "output_type": "display_data",
          "data": {
            "text/html": [
              "-0.00534116256125113"
            ],
            "text/markdown": "-0.00534116256125113",
            "text/latex": "-0.00534116256125113",
            "text/plain": [
              "[1] -0.005341163"
            ]
          },
          "metadata": {}
        },
        {
          "output_type": "display_data",
          "data": {
            "text/html": [
              "0.779493496728511"
            ],
            "text/markdown": "0.779493496728511",
            "text/latex": "0.779493496728511",
            "text/plain": [
              "[1] 0.7794935"
            ]
          },
          "metadata": {}
        }
      ],
      "source": [
        "# Your solution here\n",
        "cor(animals$brain, animals$body)\n",
        "\n",
        "x <- (log(animals$brain))\n",
        "y <- (log(animals$body))  \n",
        "cor(x,y)"
      ]
    },
    {
      "cell_type": "markdown",
      "metadata": {
        "deletable": false,
        "editable": false,
        "nbgrader": {
          "grade": false,
          "grade_id": "cell-9ea1f017dd33edff",
          "locked": true,
          "schema_version": 3,
          "solution": false
        },
        "run_control": {
          "frozen": true
        },
        "id": "pcol773Igvml"
      },
      "source": [
        "## Problem 3: Flights (3 pts)\n",
        "This problem looks at the `flights` dataset, which was already loaded at the begginning of this notebook."
      ]
    },
    {
      "cell_type": "markdown",
      "metadata": {
        "deletable": false,
        "editable": false,
        "nbgrader": {
          "grade": false,
          "grade_id": "cell-8128530d2118c4da",
          "locked": true,
          "schema_version": 3,
          "solution": false
        },
        "run_control": {
          "frozen": true
        },
        "id": "7cMV8h2Agvmm"
      },
      "source": [
        "**(a)** The following command lists the top six destinations in this dataset:"
      ]
    },
    {
      "cell_type": "code",
      "execution_count": 9,
      "metadata": {
        "deletable": false,
        "editable": false,
        "id": "Cb7L-j8dgvmm",
        "colab": {
          "base_uri": "https://localhost:8080/",
          "height": 1000
        },
        "outputId": "0e4f79c2-08f1-432f-a956-ba29cd922eb9"
      },
      "outputs": [
        {
          "output_type": "stream",
          "name": "stderr",
          "text": [
            "\u001b[1m\u001b[22mSelecting by n\n"
          ]
        },
        {
          "output_type": "stream",
          "name": "stdout",
          "text": [
            "\u001b[90m# A tibble: 6 × 2\u001b[39m\n",
            "  dest      n\n",
            "  \u001b[3m\u001b[90m<chr>\u001b[39m\u001b[23m \u001b[3m\u001b[90m<int>\u001b[39m\u001b[23m\n",
            "\u001b[90m1\u001b[39m ATL   \u001b[4m1\u001b[24m\u001b[4m7\u001b[24m215\n",
            "\u001b[90m2\u001b[39m BOS   \u001b[4m1\u001b[24m\u001b[4m5\u001b[24m508\n",
            "\u001b[90m3\u001b[39m CLT   \u001b[4m1\u001b[24m\u001b[4m4\u001b[24m064\n",
            "\u001b[90m4\u001b[39m LAX   \u001b[4m1\u001b[24m\u001b[4m6\u001b[24m174\n",
            "\u001b[90m5\u001b[39m MCO   \u001b[4m1\u001b[24m\u001b[4m4\u001b[24m082\n",
            "\u001b[90m6\u001b[39m ORD   \u001b[4m1\u001b[24m\u001b[4m7\u001b[24m283\n"
          ]
        },
        {
          "output_type": "display_data",
          "data": {
            "text/html": [
              "<table class=\"dataframe\">\n",
              "<caption>A tibble: 94326 × 19</caption>\n",
              "<thead>\n",
              "\t<tr><th scope=col>year</th><th scope=col>month</th><th scope=col>day</th><th scope=col>dep_time</th><th scope=col>sched_dep_time</th><th scope=col>dep_delay</th><th scope=col>arr_time</th><th scope=col>sched_arr_time</th><th scope=col>arr_delay</th><th scope=col>carrier</th><th scope=col>flight</th><th scope=col>tailnum</th><th scope=col>origin</th><th scope=col>dest</th><th scope=col>air_time</th><th scope=col>distance</th><th scope=col>hour</th><th scope=col>minute</th><th scope=col>time_hour</th></tr>\n",
              "\t<tr><th scope=col>&lt;int&gt;</th><th scope=col>&lt;int&gt;</th><th scope=col>&lt;int&gt;</th><th scope=col>&lt;int&gt;</th><th scope=col>&lt;int&gt;</th><th scope=col>&lt;dbl&gt;</th><th scope=col>&lt;int&gt;</th><th scope=col>&lt;int&gt;</th><th scope=col>&lt;dbl&gt;</th><th scope=col>&lt;chr&gt;</th><th scope=col>&lt;int&gt;</th><th scope=col>&lt;chr&gt;</th><th scope=col>&lt;chr&gt;</th><th scope=col>&lt;chr&gt;</th><th scope=col>&lt;dbl&gt;</th><th scope=col>&lt;dbl&gt;</th><th scope=col>&lt;dbl&gt;</th><th scope=col>&lt;dbl&gt;</th><th scope=col>&lt;dttm&gt;</th></tr>\n",
              "</thead>\n",
              "<tbody>\n",
              "\t<tr><td>2013</td><td>1</td><td>1</td><td>554</td><td>600</td><td>-6</td><td> 812</td><td> 837</td><td>-25</td><td>DL</td><td> 461</td><td>N668DN</td><td>LGA</td><td>ATL</td><td>116</td><td> 762</td><td>6</td><td> 0</td><td>2013-01-01 06:00:00</td></tr>\n",
              "\t<tr><td>2013</td><td>1</td><td>1</td><td>554</td><td>558</td><td>-4</td><td> 740</td><td> 728</td><td> 12</td><td>UA</td><td>1696</td><td>N39463</td><td>EWR</td><td>ORD</td><td>150</td><td> 719</td><td>5</td><td>58</td><td>2013-01-01 05:00:00</td></tr>\n",
              "\t<tr><td>2013</td><td>1</td><td>1</td><td>557</td><td>600</td><td>-3</td><td> 838</td><td> 846</td><td> -8</td><td>B6</td><td>  79</td><td>N593JB</td><td>JFK</td><td>MCO</td><td>140</td><td> 944</td><td>6</td><td> 0</td><td>2013-01-01 06:00:00</td></tr>\n",
              "\t<tr><td>2013</td><td>1</td><td>1</td><td>558</td><td>600</td><td>-2</td><td> 753</td><td> 745</td><td>  8</td><td>AA</td><td> 301</td><td>N3ALAA</td><td>LGA</td><td>ORD</td><td>138</td><td> 733</td><td>6</td><td> 0</td><td>2013-01-01 06:00:00</td></tr>\n",
              "\t<tr><td>2013</td><td>1</td><td>1</td><td>558</td><td>600</td><td>-2</td><td> 924</td><td> 917</td><td>  7</td><td>UA</td><td> 194</td><td>N29129</td><td>JFK</td><td>LAX</td><td>345</td><td>2475</td><td>6</td><td> 0</td><td>2013-01-01 06:00:00</td></tr>\n",
              "\t<tr><td>2013</td><td>1</td><td>1</td><td>559</td><td>559</td><td> 0</td><td> 702</td><td> 706</td><td> -4</td><td>B6</td><td>1806</td><td>N708JB</td><td>JFK</td><td>BOS</td><td> 44</td><td> 187</td><td>5</td><td>59</td><td>2013-01-01 05:00:00</td></tr>\n",
              "\t<tr><td>2013</td><td>1</td><td>1</td><td>600</td><td>600</td><td> 0</td><td> 837</td><td> 825</td><td> 12</td><td>MQ</td><td>4650</td><td>N542MQ</td><td>LGA</td><td>ATL</td><td>134</td><td> 762</td><td>6</td><td> 0</td><td>2013-01-01 06:00:00</td></tr>\n",
              "\t<tr><td>2013</td><td>1</td><td>1</td><td>606</td><td>610</td><td>-4</td><td> 837</td><td> 845</td><td> -8</td><td>DL</td><td>1743</td><td>N3739P</td><td>JFK</td><td>ATL</td><td>128</td><td> 760</td><td>6</td><td>10</td><td>2013-01-01 06:00:00</td></tr>\n",
              "\t<tr><td>2013</td><td>1</td><td>1</td><td>608</td><td>600</td><td> 8</td><td> 807</td><td> 735</td><td> 32</td><td>MQ</td><td>3768</td><td>N9EAMQ</td><td>EWR</td><td>ORD</td><td>139</td><td> 719</td><td>6</td><td> 0</td><td>2013-01-01 06:00:00</td></tr>\n",
              "\t<tr><td>2013</td><td>1</td><td>1</td><td>615</td><td>615</td><td> 0</td><td> 833</td><td> 842</td><td> -9</td><td>DL</td><td> 575</td><td>N326NB</td><td>EWR</td><td>ATL</td><td>120</td><td> 746</td><td>6</td><td>15</td><td>2013-01-01 06:00:00</td></tr>\n",
              "\t<tr><td>2013</td><td>1</td><td>1</td><td>628</td><td>630</td><td>-2</td><td>1016</td><td> 947</td><td> 29</td><td>UA</td><td>1665</td><td>N33289</td><td>EWR</td><td>LAX</td><td>366</td><td>2454</td><td>6</td><td>30</td><td>2013-01-01 06:00:00</td></tr>\n",
              "\t<tr><td>2013</td><td>1</td><td>1</td><td>629</td><td>630</td><td>-1</td><td> 824</td><td> 810</td><td> 14</td><td>AA</td><td> 303</td><td>N3CYAA</td><td>LGA</td><td>ORD</td><td>140</td><td> 733</td><td>6</td><td>30</td><td>2013-01-01 06:00:00</td></tr>\n",
              "\t<tr><td>2013</td><td>1</td><td>1</td><td>629</td><td>630</td><td>-1</td><td> 824</td><td> 833</td><td> -9</td><td>US</td><td>1019</td><td>N426US</td><td>EWR</td><td>CLT</td><td> 91</td><td> 529</td><td>6</td><td>30</td><td>2013-01-01 06:00:00</td></tr>\n",
              "\t<tr><td>2013</td><td>1</td><td>1</td><td>637</td><td>645</td><td>-8</td><td> 930</td><td> 935</td><td> -5</td><td>B6</td><td> 389</td><td>N709JB</td><td>LGA</td><td>MCO</td><td>144</td><td> 950</td><td>6</td><td>45</td><td>2013-01-01 06:00:00</td></tr>\n",
              "\t<tr><td>2013</td><td>1</td><td>1</td><td>639</td><td>640</td><td>-1</td><td> 739</td><td> 749</td><td>-10</td><td>B6</td><td>1002</td><td>N805JB</td><td>JFK</td><td>BOS</td><td> 41</td><td> 187</td><td>6</td><td>40</td><td>2013-01-01 06:00:00</td></tr>\n",
              "\t<tr><td>2013</td><td>1</td><td>1</td><td>643</td><td>645</td><td>-2</td><td> 837</td><td> 848</td><td>-11</td><td>US</td><td> 926</td><td>N178US</td><td>EWR</td><td>CLT</td><td> 91</td><td> 529</td><td>6</td><td>45</td><td>2013-01-01 06:00:00</td></tr>\n",
              "\t<tr><td>2013</td><td>1</td><td>1</td><td>656</td><td>700</td><td>-4</td><td> 854</td><td> 850</td><td>  4</td><td>AA</td><td> 305</td><td>N4WNAA</td><td>LGA</td><td>ORD</td><td>143</td><td> 733</td><td>7</td><td> 0</td><td>2013-01-01 07:00:00</td></tr>\n",
              "\t<tr><td>2013</td><td>1</td><td>1</td><td>656</td><td>659</td><td>-3</td><td> 949</td><td> 959</td><td>-10</td><td>AA</td><td>1815</td><td>N5FMAA</td><td>JFK</td><td>MCO</td><td>142</td><td> 944</td><td>6</td><td>59</td><td>2013-01-01 06:00:00</td></tr>\n",
              "\t<tr><td>2013</td><td>1</td><td>1</td><td>658</td><td>700</td><td>-2</td><td> 944</td><td> 939</td><td>  5</td><td>DL</td><td>1547</td><td>N6703D</td><td>LGA</td><td>ATL</td><td>126</td><td> 762</td><td>7</td><td> 0</td><td>2013-01-01 07:00:00</td></tr>\n",
              "\t<tr><td>2013</td><td>1</td><td>1</td><td>658</td><td>700</td><td>-2</td><td>1027</td><td>1025</td><td>  2</td><td>VX</td><td> 399</td><td>N627VA</td><td>JFK</td><td>LAX</td><td>361</td><td>2475</td><td>7</td><td> 0</td><td>2013-01-01 07:00:00</td></tr>\n",
              "\t<tr><td>2013</td><td>1</td><td>1</td><td>702</td><td>700</td><td> 2</td><td>1058</td><td>1014</td><td> 44</td><td>B6</td><td> 671</td><td>N779JB</td><td>JFK</td><td>LAX</td><td>381</td><td>2475</td><td>7</td><td> 0</td><td>2013-01-01 07:00:00</td></tr>\n",
              "\t<tr><td>2013</td><td>1</td><td>1</td><td>709</td><td>700</td><td> 9</td><td> 852</td><td> 832</td><td> 20</td><td>UA</td><td>1092</td><td>N26226</td><td>LGA</td><td>ORD</td><td>135</td><td> 733</td><td>7</td><td> 0</td><td>2013-01-01 07:00:00</td></tr>\n",
              "\t<tr><td>2013</td><td>1</td><td>1</td><td>715</td><td>713</td><td> 2</td><td> 911</td><td> 850</td><td> 21</td><td>UA</td><td> 544</td><td>N841UA</td><td>EWR</td><td>ORD</td><td>156</td><td> 719</td><td>7</td><td>13</td><td>2013-01-01 07:00:00</td></tr>\n",
              "\t<tr><td>2013</td><td>1</td><td>1</td><td>719</td><td>721</td><td>-2</td><td>1017</td><td>1012</td><td>  5</td><td>B6</td><td> 987</td><td>N562JB</td><td>JFK</td><td>MCO</td><td>147</td><td> 944</td><td>7</td><td>21</td><td>2013-01-01 07:00:00</td></tr>\n",
              "\t<tr><td>2013</td><td>1</td><td>1</td><td>732</td><td>645</td><td>47</td><td>1011</td><td> 941</td><td> 30</td><td>UA</td><td>1111</td><td>N37456</td><td>EWR</td><td>MCO</td><td>145</td><td> 937</td><td>6</td><td>45</td><td>2013-01-01 06:00:00</td></tr>\n",
              "\t<tr><td>2013</td><td>1</td><td>1</td><td>739</td><td>745</td><td>-6</td><td> 918</td><td> 930</td><td>-12</td><td>AA</td><td> 309</td><td>N4WPAA</td><td>LGA</td><td>ORD</td><td>137</td><td> 733</td><td>7</td><td>45</td><td>2013-01-01 07:00:00</td></tr>\n",
              "\t<tr><td>2013</td><td>1</td><td>1</td><td>743</td><td>730</td><td>13</td><td>1107</td><td>1100</td><td>  7</td><td>AA</td><td>  33</td><td>N338AA</td><td>JFK</td><td>LAX</td><td>358</td><td>2475</td><td>7</td><td>30</td><td>2013-01-01 07:00:00</td></tr>\n",
              "\t<tr><td>2013</td><td>1</td><td>1</td><td>749</td><td>710</td><td>39</td><td> 939</td><td> 850</td><td> 49</td><td>MQ</td><td>3737</td><td>N508MQ</td><td>EWR</td><td>ORD</td><td>148</td><td> 719</td><td>7</td><td>10</td><td>2013-01-01 07:00:00</td></tr>\n",
              "\t<tr><td>2013</td><td>1</td><td>1</td><td>752</td><td>755</td><td>-3</td><td>1041</td><td>1059</td><td>-18</td><td>DL</td><td>2263</td><td>N325US</td><td>LGA</td><td>MCO</td><td>140</td><td> 950</td><td>7</td><td>55</td><td>2013-01-01 07:00:00</td></tr>\n",
              "\t<tr><td>2013</td><td>1</td><td>1</td><td>752</td><td>759</td><td>-7</td><td> 955</td><td> 959</td><td> -4</td><td>US</td><td>1733</td><td>N543UW</td><td>LGA</td><td>CLT</td><td> 96</td><td> 544</td><td>7</td><td>59</td><td>2013-01-01 07:00:00</td></tr>\n",
              "\t<tr><td>⋮</td><td>⋮</td><td>⋮</td><td>⋮</td><td>⋮</td><td>⋮</td><td>⋮</td><td>⋮</td><td>⋮</td><td>⋮</td><td>⋮</td><td>⋮</td><td>⋮</td><td>⋮</td><td>⋮</td><td>⋮</td><td>⋮</td><td>⋮</td><td>⋮</td></tr>\n",
              "\t<tr><td>2013</td><td>9</td><td>30</td><td>1944</td><td>1950</td><td> -6</td><td>2208</td><td>2215</td><td> -7</td><td>MQ</td><td>3662</td><td>N507MQ</td><td>LGA</td><td>ATL</td><td>100</td><td> 762</td><td>19</td><td>50</td><td>2013-09-30 19:00:00</td></tr>\n",
              "\t<tr><td>2013</td><td>9</td><td>30</td><td>1953</td><td>2000</td><td> -7</td><td>2119</td><td>2132</td><td>-13</td><td>UA</td><td> 695</td><td>N853UA</td><td>LGA</td><td>ORD</td><td>107</td><td> 733</td><td>20</td><td> 0</td><td>2013-09-30 20:00:00</td></tr>\n",
              "\t<tr><td>2013</td><td>9</td><td>30</td><td>1955</td><td>2000</td><td> -5</td><td>2219</td><td>2230</td><td>-11</td><td>DL</td><td>1147</td><td>N992DL</td><td>LGA</td><td>ATL</td><td> 99</td><td> 762</td><td>20</td><td> 0</td><td>2013-09-30 20:00:00</td></tr>\n",
              "\t<tr><td>2013</td><td>9</td><td>30</td><td>1955</td><td>2000</td><td> -5</td><td>2112</td><td>2114</td><td> -2</td><td>US</td><td>2162</td><td>N957UW</td><td>LGA</td><td>BOS</td><td> 35</td><td> 184</td><td>20</td><td> 0</td><td>2013-09-30 20:00:00</td></tr>\n",
              "\t<tr><td>2013</td><td>9</td><td>30</td><td>1958</td><td>2005</td><td> -7</td><td>2119</td><td>2130</td><td>-11</td><td>MQ</td><td>3604</td><td>N511MQ</td><td>EWR</td><td>ORD</td><td>102</td><td> 719</td><td>20</td><td> 5</td><td>2013-09-30 20:00:00</td></tr>\n",
              "\t<tr><td>2013</td><td>9</td><td>30</td><td>2000</td><td>2000</td><td>  0</td><td>2207</td><td>2211</td><td> -4</td><td>YV</td><td>2677</td><td>N924FJ</td><td>LGA</td><td>CLT</td><td> 75</td><td> 544</td><td>20</td><td> 0</td><td>2013-09-30 20:00:00</td></tr>\n",
              "\t<tr><td>2013</td><td>9</td><td>30</td><td>2003</td><td>2004</td><td> -1</td><td>2235</td><td>2314</td><td>-39</td><td>UA</td><td>1224</td><td>N38473</td><td>EWR</td><td>LAX</td><td>295</td><td>2454</td><td>20</td><td> 4</td><td>2013-09-30 20:00:00</td></tr>\n",
              "\t<tr><td>2013</td><td>9</td><td>30</td><td>2009</td><td>2000</td><td>  9</td><td>2238</td><td>2300</td><td>-22</td><td>VX</td><td> 415</td><td>N844VA</td><td>JFK</td><td>LAX</td><td>303</td><td>2475</td><td>20</td><td> 0</td><td>2013-09-30 20:00:00</td></tr>\n",
              "\t<tr><td>2013</td><td>9</td><td>30</td><td>2009</td><td>2009</td><td>  0</td><td>2126</td><td>2129</td><td> -3</td><td>UA</td><td>1049</td><td>N77258</td><td>EWR</td><td>BOS</td><td> 38</td><td> 200</td><td>20</td><td> 9</td><td>2013-09-30 20:00:00</td></tr>\n",
              "\t<tr><td>2013</td><td>9</td><td>30</td><td>2010</td><td>2015</td><td> -5</td><td>2100</td><td>2125</td><td>-25</td><td>B6</td><td> 418</td><td>N249JB</td><td>JFK</td><td>BOS</td><td> 35</td><td> 187</td><td>20</td><td>15</td><td>2013-09-30 20:00:00</td></tr>\n",
              "\t<tr><td>2013</td><td>9</td><td>30</td><td>2017</td><td>2022</td><td> -5</td><td>2132</td><td>2155</td><td>-23</td><td>B6</td><td> 105</td><td>N298JB</td><td>JFK</td><td>ORD</td><td>112</td><td> 740</td><td>20</td><td>22</td><td>2013-09-30 20:00:00</td></tr>\n",
              "\t<tr><td>2013</td><td>9</td><td>30</td><td>2017</td><td>2017</td><td>  0</td><td>2253</td><td>2320</td><td>-27</td><td>UA</td><td> 771</td><td>N510UA</td><td>JFK</td><td>LAX</td><td>304</td><td>2475</td><td>20</td><td>17</td><td>2013-09-30 20:00:00</td></tr>\n",
              "\t<tr><td>2013</td><td>9</td><td>30</td><td>2022</td><td>2025</td><td> -3</td><td>2127</td><td>2140</td><td>-13</td><td>AA</td><td>2314</td><td>N3CUAA</td><td>JFK</td><td>BOS</td><td> 37</td><td> 187</td><td>20</td><td>25</td><td>2013-09-30 20:00:00</td></tr>\n",
              "\t<tr><td>2013</td><td>9</td><td>30</td><td>2028</td><td>1910</td><td> 78</td><td>2255</td><td>2215</td><td> 40</td><td>AA</td><td>  21</td><td>N338AA</td><td>JFK</td><td>LAX</td><td>294</td><td>2475</td><td>19</td><td>10</td><td>2013-09-30 19:00:00</td></tr>\n",
              "\t<tr><td>2013</td><td>9</td><td>30</td><td>2030</td><td>2045</td><td>-15</td><td>2141</td><td>2153</td><td>-12</td><td>B6</td><td>2680</td><td>N266JB</td><td>EWR</td><td>BOS</td><td> 38</td><td> 200</td><td>20</td><td>45</td><td>2013-09-30 20:00:00</td></tr>\n",
              "\t<tr><td>2013</td><td>9</td><td>30</td><td>2032</td><td>2045</td><td>-13</td><td>2147</td><td>2225</td><td>-38</td><td>AA</td><td> 371</td><td>N434AA</td><td>LGA</td><td>ORD</td><td>105</td><td> 733</td><td>20</td><td>45</td><td>2013-09-30 20:00:00</td></tr>\n",
              "\t<tr><td>2013</td><td>9</td><td>30</td><td>2041</td><td>2045</td><td> -4</td><td>2147</td><td>2208</td><td>-21</td><td>DL</td><td> 985</td><td>N359NB</td><td>JFK</td><td>BOS</td><td> 37</td><td> 187</td><td>20</td><td>45</td><td>2013-09-30 20:00:00</td></tr>\n",
              "\t<tr><td>2013</td><td>9</td><td>30</td><td>2050</td><td>2100</td><td>-10</td><td>2312</td><td>2344</td><td>-32</td><td>B6</td><td> 499</td><td>N606JB</td><td>LGA</td><td>MCO</td><td>122</td><td> 950</td><td>21</td><td> 0</td><td>2013-09-30 21:00:00</td></tr>\n",
              "\t<tr><td>2013</td><td>9</td><td>30</td><td>2051</td><td>2054</td><td> -3</td><td>2348</td><td>2359</td><td>-11</td><td>B6</td><td> 523</td><td>N605JB</td><td>JFK</td><td>LAX</td><td>304</td><td>2475</td><td>20</td><td>54</td><td>2013-09-30 20:00:00</td></tr>\n",
              "\t<tr><td>2013</td><td>9</td><td>30</td><td>2052</td><td>2059</td><td> -7</td><td>2315</td><td>2358</td><td>-43</td><td>UA</td><td>1416</td><td>N68453</td><td>EWR</td><td>MCO</td><td>123</td><td> 937</td><td>20</td><td>59</td><td>2013-09-30 20:00:00</td></tr>\n",
              "\t<tr><td>2013</td><td>9</td><td>30</td><td>2053</td><td>1815</td><td>158</td><td>2310</td><td>2054</td><td>136</td><td>EV</td><td>5292</td><td>N600QX</td><td>EWR</td><td>ATL</td><td> 91</td><td> 746</td><td>18</td><td>15</td><td>2013-09-30 18:00:00</td></tr>\n",
              "\t<tr><td>2013</td><td>9</td><td>30</td><td>2054</td><td>2100</td><td> -6</td><td>2240</td><td>2245</td><td> -5</td><td>MQ</td><td>3384</td><td>N528MQ</td><td>LGA</td><td>CLT</td><td> 70</td><td> 544</td><td>21</td><td> 0</td><td>2013-09-30 21:00:00</td></tr>\n",
              "\t<tr><td>2013</td><td>9</td><td>30</td><td>2055</td><td>2059</td><td> -4</td><td>2158</td><td>2211</td><td>-13</td><td>UA</td><td>1066</td><td>N16701</td><td>EWR</td><td>BOS</td><td> 40</td><td> 200</td><td>20</td><td>59</td><td>2013-09-30 20:00:00</td></tr>\n",
              "\t<tr><td>2013</td><td>9</td><td>30</td><td>2057</td><td>2100</td><td> -3</td><td>2149</td><td>2211</td><td>-22</td><td>US</td><td>2164</td><td>N953UW</td><td>LGA</td><td>BOS</td><td> 35</td><td> 184</td><td>21</td><td> 0</td><td>2013-09-30 21:00:00</td></tr>\n",
              "\t<tr><td>2013</td><td>9</td><td>30</td><td>2121</td><td>2100</td><td> 21</td><td>2349</td><td>  14</td><td>-25</td><td>DL</td><td>2363</td><td>N193DN</td><td>JFK</td><td>LAX</td><td>296</td><td>2475</td><td>21</td><td> 0</td><td>2013-09-30 21:00:00</td></tr>\n",
              "\t<tr><td>2013</td><td>9</td><td>30</td><td>2127</td><td>2129</td><td> -2</td><td>2314</td><td>2323</td><td> -9</td><td>EV</td><td>3833</td><td>N16546</td><td>EWR</td><td>CLT</td><td> 72</td><td> 529</td><td>21</td><td>29</td><td>2013-09-30 21:00:00</td></tr>\n",
              "\t<tr><td>2013</td><td>9</td><td>30</td><td>2140</td><td>2140</td><td>  0</td><td>  10</td><td>  40</td><td>-30</td><td>AA</td><td> 185</td><td>N335AA</td><td>JFK</td><td>LAX</td><td>298</td><td>2475</td><td>21</td><td>40</td><td>2013-09-30 21:00:00</td></tr>\n",
              "\t<tr><td>2013</td><td>9</td><td>30</td><td>2149</td><td>2156</td><td> -7</td><td>2245</td><td>2308</td><td>-23</td><td>UA</td><td> 523</td><td>N813UA</td><td>EWR</td><td>BOS</td><td> 37</td><td> 200</td><td>21</td><td>56</td><td>2013-09-30 21:00:00</td></tr>\n",
              "\t<tr><td>2013</td><td>9</td><td>30</td><td>2235</td><td>2001</td><td>154</td><td>  59</td><td>2249</td><td>130</td><td>B6</td><td>1083</td><td>N804JB</td><td>JFK</td><td>MCO</td><td>123</td><td> 944</td><td>20</td><td> 1</td><td>2013-09-30 20:00:00</td></tr>\n",
              "\t<tr><td>2013</td><td>9</td><td>30</td><td>2307</td><td>2255</td><td> 12</td><td>2359</td><td>2358</td><td>  1</td><td>B6</td><td> 718</td><td>N565JB</td><td>JFK</td><td>BOS</td><td> 33</td><td> 187</td><td>22</td><td>55</td><td>2013-09-30 22:00:00</td></tr>\n",
              "</tbody>\n",
              "</table>\n"
            ],
            "text/markdown": "\nA tibble: 94326 × 19\n\n| year &lt;int&gt; | month &lt;int&gt; | day &lt;int&gt; | dep_time &lt;int&gt; | sched_dep_time &lt;int&gt; | dep_delay &lt;dbl&gt; | arr_time &lt;int&gt; | sched_arr_time &lt;int&gt; | arr_delay &lt;dbl&gt; | carrier &lt;chr&gt; | flight &lt;int&gt; | tailnum &lt;chr&gt; | origin &lt;chr&gt; | dest &lt;chr&gt; | air_time &lt;dbl&gt; | distance &lt;dbl&gt; | hour &lt;dbl&gt; | minute &lt;dbl&gt; | time_hour &lt;dttm&gt; |\n|---|---|---|---|---|---|---|---|---|---|---|---|---|---|---|---|---|---|---|\n| 2013 | 1 | 1 | 554 | 600 | -6 |  812 |  837 | -25 | DL |  461 | N668DN | LGA | ATL | 116 |  762 | 6 |  0 | 2013-01-01 06:00:00 |\n| 2013 | 1 | 1 | 554 | 558 | -4 |  740 |  728 |  12 | UA | 1696 | N39463 | EWR | ORD | 150 |  719 | 5 | 58 | 2013-01-01 05:00:00 |\n| 2013 | 1 | 1 | 557 | 600 | -3 |  838 |  846 |  -8 | B6 |   79 | N593JB | JFK | MCO | 140 |  944 | 6 |  0 | 2013-01-01 06:00:00 |\n| 2013 | 1 | 1 | 558 | 600 | -2 |  753 |  745 |   8 | AA |  301 | N3ALAA | LGA | ORD | 138 |  733 | 6 |  0 | 2013-01-01 06:00:00 |\n| 2013 | 1 | 1 | 558 | 600 | -2 |  924 |  917 |   7 | UA |  194 | N29129 | JFK | LAX | 345 | 2475 | 6 |  0 | 2013-01-01 06:00:00 |\n| 2013 | 1 | 1 | 559 | 559 |  0 |  702 |  706 |  -4 | B6 | 1806 | N708JB | JFK | BOS |  44 |  187 | 5 | 59 | 2013-01-01 05:00:00 |\n| 2013 | 1 | 1 | 600 | 600 |  0 |  837 |  825 |  12 | MQ | 4650 | N542MQ | LGA | ATL | 134 |  762 | 6 |  0 | 2013-01-01 06:00:00 |\n| 2013 | 1 | 1 | 606 | 610 | -4 |  837 |  845 |  -8 | DL | 1743 | N3739P | JFK | ATL | 128 |  760 | 6 | 10 | 2013-01-01 06:00:00 |\n| 2013 | 1 | 1 | 608 | 600 |  8 |  807 |  735 |  32 | MQ | 3768 | N9EAMQ | EWR | ORD | 139 |  719 | 6 |  0 | 2013-01-01 06:00:00 |\n| 2013 | 1 | 1 | 615 | 615 |  0 |  833 |  842 |  -9 | DL |  575 | N326NB | EWR | ATL | 120 |  746 | 6 | 15 | 2013-01-01 06:00:00 |\n| 2013 | 1 | 1 | 628 | 630 | -2 | 1016 |  947 |  29 | UA | 1665 | N33289 | EWR | LAX | 366 | 2454 | 6 | 30 | 2013-01-01 06:00:00 |\n| 2013 | 1 | 1 | 629 | 630 | -1 |  824 |  810 |  14 | AA |  303 | N3CYAA | LGA | ORD | 140 |  733 | 6 | 30 | 2013-01-01 06:00:00 |\n| 2013 | 1 | 1 | 629 | 630 | -1 |  824 |  833 |  -9 | US | 1019 | N426US | EWR | CLT |  91 |  529 | 6 | 30 | 2013-01-01 06:00:00 |\n| 2013 | 1 | 1 | 637 | 645 | -8 |  930 |  935 |  -5 | B6 |  389 | N709JB | LGA | MCO | 144 |  950 | 6 | 45 | 2013-01-01 06:00:00 |\n| 2013 | 1 | 1 | 639 | 640 | -1 |  739 |  749 | -10 | B6 | 1002 | N805JB | JFK | BOS |  41 |  187 | 6 | 40 | 2013-01-01 06:00:00 |\n| 2013 | 1 | 1 | 643 | 645 | -2 |  837 |  848 | -11 | US |  926 | N178US | EWR | CLT |  91 |  529 | 6 | 45 | 2013-01-01 06:00:00 |\n| 2013 | 1 | 1 | 656 | 700 | -4 |  854 |  850 |   4 | AA |  305 | N4WNAA | LGA | ORD | 143 |  733 | 7 |  0 | 2013-01-01 07:00:00 |\n| 2013 | 1 | 1 | 656 | 659 | -3 |  949 |  959 | -10 | AA | 1815 | N5FMAA | JFK | MCO | 142 |  944 | 6 | 59 | 2013-01-01 06:00:00 |\n| 2013 | 1 | 1 | 658 | 700 | -2 |  944 |  939 |   5 | DL | 1547 | N6703D | LGA | ATL | 126 |  762 | 7 |  0 | 2013-01-01 07:00:00 |\n| 2013 | 1 | 1 | 658 | 700 | -2 | 1027 | 1025 |   2 | VX |  399 | N627VA | JFK | LAX | 361 | 2475 | 7 |  0 | 2013-01-01 07:00:00 |\n| 2013 | 1 | 1 | 702 | 700 |  2 | 1058 | 1014 |  44 | B6 |  671 | N779JB | JFK | LAX | 381 | 2475 | 7 |  0 | 2013-01-01 07:00:00 |\n| 2013 | 1 | 1 | 709 | 700 |  9 |  852 |  832 |  20 | UA | 1092 | N26226 | LGA | ORD | 135 |  733 | 7 |  0 | 2013-01-01 07:00:00 |\n| 2013 | 1 | 1 | 715 | 713 |  2 |  911 |  850 |  21 | UA |  544 | N841UA | EWR | ORD | 156 |  719 | 7 | 13 | 2013-01-01 07:00:00 |\n| 2013 | 1 | 1 | 719 | 721 | -2 | 1017 | 1012 |   5 | B6 |  987 | N562JB | JFK | MCO | 147 |  944 | 7 | 21 | 2013-01-01 07:00:00 |\n| 2013 | 1 | 1 | 732 | 645 | 47 | 1011 |  941 |  30 | UA | 1111 | N37456 | EWR | MCO | 145 |  937 | 6 | 45 | 2013-01-01 06:00:00 |\n| 2013 | 1 | 1 | 739 | 745 | -6 |  918 |  930 | -12 | AA |  309 | N4WPAA | LGA | ORD | 137 |  733 | 7 | 45 | 2013-01-01 07:00:00 |\n| 2013 | 1 | 1 | 743 | 730 | 13 | 1107 | 1100 |   7 | AA |   33 | N338AA | JFK | LAX | 358 | 2475 | 7 | 30 | 2013-01-01 07:00:00 |\n| 2013 | 1 | 1 | 749 | 710 | 39 |  939 |  850 |  49 | MQ | 3737 | N508MQ | EWR | ORD | 148 |  719 | 7 | 10 | 2013-01-01 07:00:00 |\n| 2013 | 1 | 1 | 752 | 755 | -3 | 1041 | 1059 | -18 | DL | 2263 | N325US | LGA | MCO | 140 |  950 | 7 | 55 | 2013-01-01 07:00:00 |\n| 2013 | 1 | 1 | 752 | 759 | -7 |  955 |  959 |  -4 | US | 1733 | N543UW | LGA | CLT |  96 |  544 | 7 | 59 | 2013-01-01 07:00:00 |\n| ⋮ | ⋮ | ⋮ | ⋮ | ⋮ | ⋮ | ⋮ | ⋮ | ⋮ | ⋮ | ⋮ | ⋮ | ⋮ | ⋮ | ⋮ | ⋮ | ⋮ | ⋮ | ⋮ |\n| 2013 | 9 | 30 | 1944 | 1950 |  -6 | 2208 | 2215 |  -7 | MQ | 3662 | N507MQ | LGA | ATL | 100 |  762 | 19 | 50 | 2013-09-30 19:00:00 |\n| 2013 | 9 | 30 | 1953 | 2000 |  -7 | 2119 | 2132 | -13 | UA |  695 | N853UA | LGA | ORD | 107 |  733 | 20 |  0 | 2013-09-30 20:00:00 |\n| 2013 | 9 | 30 | 1955 | 2000 |  -5 | 2219 | 2230 | -11 | DL | 1147 | N992DL | LGA | ATL |  99 |  762 | 20 |  0 | 2013-09-30 20:00:00 |\n| 2013 | 9 | 30 | 1955 | 2000 |  -5 | 2112 | 2114 |  -2 | US | 2162 | N957UW | LGA | BOS |  35 |  184 | 20 |  0 | 2013-09-30 20:00:00 |\n| 2013 | 9 | 30 | 1958 | 2005 |  -7 | 2119 | 2130 | -11 | MQ | 3604 | N511MQ | EWR | ORD | 102 |  719 | 20 |  5 | 2013-09-30 20:00:00 |\n| 2013 | 9 | 30 | 2000 | 2000 |   0 | 2207 | 2211 |  -4 | YV | 2677 | N924FJ | LGA | CLT |  75 |  544 | 20 |  0 | 2013-09-30 20:00:00 |\n| 2013 | 9 | 30 | 2003 | 2004 |  -1 | 2235 | 2314 | -39 | UA | 1224 | N38473 | EWR | LAX | 295 | 2454 | 20 |  4 | 2013-09-30 20:00:00 |\n| 2013 | 9 | 30 | 2009 | 2000 |   9 | 2238 | 2300 | -22 | VX |  415 | N844VA | JFK | LAX | 303 | 2475 | 20 |  0 | 2013-09-30 20:00:00 |\n| 2013 | 9 | 30 | 2009 | 2009 |   0 | 2126 | 2129 |  -3 | UA | 1049 | N77258 | EWR | BOS |  38 |  200 | 20 |  9 | 2013-09-30 20:00:00 |\n| 2013 | 9 | 30 | 2010 | 2015 |  -5 | 2100 | 2125 | -25 | B6 |  418 | N249JB | JFK | BOS |  35 |  187 | 20 | 15 | 2013-09-30 20:00:00 |\n| 2013 | 9 | 30 | 2017 | 2022 |  -5 | 2132 | 2155 | -23 | B6 |  105 | N298JB | JFK | ORD | 112 |  740 | 20 | 22 | 2013-09-30 20:00:00 |\n| 2013 | 9 | 30 | 2017 | 2017 |   0 | 2253 | 2320 | -27 | UA |  771 | N510UA | JFK | LAX | 304 | 2475 | 20 | 17 | 2013-09-30 20:00:00 |\n| 2013 | 9 | 30 | 2022 | 2025 |  -3 | 2127 | 2140 | -13 | AA | 2314 | N3CUAA | JFK | BOS |  37 |  187 | 20 | 25 | 2013-09-30 20:00:00 |\n| 2013 | 9 | 30 | 2028 | 1910 |  78 | 2255 | 2215 |  40 | AA |   21 | N338AA | JFK | LAX | 294 | 2475 | 19 | 10 | 2013-09-30 19:00:00 |\n| 2013 | 9 | 30 | 2030 | 2045 | -15 | 2141 | 2153 | -12 | B6 | 2680 | N266JB | EWR | BOS |  38 |  200 | 20 | 45 | 2013-09-30 20:00:00 |\n| 2013 | 9 | 30 | 2032 | 2045 | -13 | 2147 | 2225 | -38 | AA |  371 | N434AA | LGA | ORD | 105 |  733 | 20 | 45 | 2013-09-30 20:00:00 |\n| 2013 | 9 | 30 | 2041 | 2045 |  -4 | 2147 | 2208 | -21 | DL |  985 | N359NB | JFK | BOS |  37 |  187 | 20 | 45 | 2013-09-30 20:00:00 |\n| 2013 | 9 | 30 | 2050 | 2100 | -10 | 2312 | 2344 | -32 | B6 |  499 | N606JB | LGA | MCO | 122 |  950 | 21 |  0 | 2013-09-30 21:00:00 |\n| 2013 | 9 | 30 | 2051 | 2054 |  -3 | 2348 | 2359 | -11 | B6 |  523 | N605JB | JFK | LAX | 304 | 2475 | 20 | 54 | 2013-09-30 20:00:00 |\n| 2013 | 9 | 30 | 2052 | 2059 |  -7 | 2315 | 2358 | -43 | UA | 1416 | N68453 | EWR | MCO | 123 |  937 | 20 | 59 | 2013-09-30 20:00:00 |\n| 2013 | 9 | 30 | 2053 | 1815 | 158 | 2310 | 2054 | 136 | EV | 5292 | N600QX | EWR | ATL |  91 |  746 | 18 | 15 | 2013-09-30 18:00:00 |\n| 2013 | 9 | 30 | 2054 | 2100 |  -6 | 2240 | 2245 |  -5 | MQ | 3384 | N528MQ | LGA | CLT |  70 |  544 | 21 |  0 | 2013-09-30 21:00:00 |\n| 2013 | 9 | 30 | 2055 | 2059 |  -4 | 2158 | 2211 | -13 | UA | 1066 | N16701 | EWR | BOS |  40 |  200 | 20 | 59 | 2013-09-30 20:00:00 |\n| 2013 | 9 | 30 | 2057 | 2100 |  -3 | 2149 | 2211 | -22 | US | 2164 | N953UW | LGA | BOS |  35 |  184 | 21 |  0 | 2013-09-30 21:00:00 |\n| 2013 | 9 | 30 | 2121 | 2100 |  21 | 2349 |   14 | -25 | DL | 2363 | N193DN | JFK | LAX | 296 | 2475 | 21 |  0 | 2013-09-30 21:00:00 |\n| 2013 | 9 | 30 | 2127 | 2129 |  -2 | 2314 | 2323 |  -9 | EV | 3833 | N16546 | EWR | CLT |  72 |  529 | 21 | 29 | 2013-09-30 21:00:00 |\n| 2013 | 9 | 30 | 2140 | 2140 |   0 |   10 |   40 | -30 | AA |  185 | N335AA | JFK | LAX | 298 | 2475 | 21 | 40 | 2013-09-30 21:00:00 |\n| 2013 | 9 | 30 | 2149 | 2156 |  -7 | 2245 | 2308 | -23 | UA |  523 | N813UA | EWR | BOS |  37 |  200 | 21 | 56 | 2013-09-30 21:00:00 |\n| 2013 | 9 | 30 | 2235 | 2001 | 154 |   59 | 2249 | 130 | B6 | 1083 | N804JB | JFK | MCO | 123 |  944 | 20 |  1 | 2013-09-30 20:00:00 |\n| 2013 | 9 | 30 | 2307 | 2255 |  12 | 2359 | 2358 |   1 | B6 |  718 | N565JB | JFK | BOS |  33 |  187 | 22 | 55 | 2013-09-30 22:00:00 |\n\n",
            "text/latex": "A tibble: 94326 × 19\n\\begin{tabular}{lllllllllllllllllll}\n year & month & day & dep\\_time & sched\\_dep\\_time & dep\\_delay & arr\\_time & sched\\_arr\\_time & arr\\_delay & carrier & flight & tailnum & origin & dest & air\\_time & distance & hour & minute & time\\_hour\\\\\n <int> & <int> & <int> & <int> & <int> & <dbl> & <int> & <int> & <dbl> & <chr> & <int> & <chr> & <chr> & <chr> & <dbl> & <dbl> & <dbl> & <dbl> & <dttm>\\\\\n\\hline\n\t 2013 & 1 & 1 & 554 & 600 & -6 &  812 &  837 & -25 & DL &  461 & N668DN & LGA & ATL & 116 &  762 & 6 &  0 & 2013-01-01 06:00:00\\\\\n\t 2013 & 1 & 1 & 554 & 558 & -4 &  740 &  728 &  12 & UA & 1696 & N39463 & EWR & ORD & 150 &  719 & 5 & 58 & 2013-01-01 05:00:00\\\\\n\t 2013 & 1 & 1 & 557 & 600 & -3 &  838 &  846 &  -8 & B6 &   79 & N593JB & JFK & MCO & 140 &  944 & 6 &  0 & 2013-01-01 06:00:00\\\\\n\t 2013 & 1 & 1 & 558 & 600 & -2 &  753 &  745 &   8 & AA &  301 & N3ALAA & LGA & ORD & 138 &  733 & 6 &  0 & 2013-01-01 06:00:00\\\\\n\t 2013 & 1 & 1 & 558 & 600 & -2 &  924 &  917 &   7 & UA &  194 & N29129 & JFK & LAX & 345 & 2475 & 6 &  0 & 2013-01-01 06:00:00\\\\\n\t 2013 & 1 & 1 & 559 & 559 &  0 &  702 &  706 &  -4 & B6 & 1806 & N708JB & JFK & BOS &  44 &  187 & 5 & 59 & 2013-01-01 05:00:00\\\\\n\t 2013 & 1 & 1 & 600 & 600 &  0 &  837 &  825 &  12 & MQ & 4650 & N542MQ & LGA & ATL & 134 &  762 & 6 &  0 & 2013-01-01 06:00:00\\\\\n\t 2013 & 1 & 1 & 606 & 610 & -4 &  837 &  845 &  -8 & DL & 1743 & N3739P & JFK & ATL & 128 &  760 & 6 & 10 & 2013-01-01 06:00:00\\\\\n\t 2013 & 1 & 1 & 608 & 600 &  8 &  807 &  735 &  32 & MQ & 3768 & N9EAMQ & EWR & ORD & 139 &  719 & 6 &  0 & 2013-01-01 06:00:00\\\\\n\t 2013 & 1 & 1 & 615 & 615 &  0 &  833 &  842 &  -9 & DL &  575 & N326NB & EWR & ATL & 120 &  746 & 6 & 15 & 2013-01-01 06:00:00\\\\\n\t 2013 & 1 & 1 & 628 & 630 & -2 & 1016 &  947 &  29 & UA & 1665 & N33289 & EWR & LAX & 366 & 2454 & 6 & 30 & 2013-01-01 06:00:00\\\\\n\t 2013 & 1 & 1 & 629 & 630 & -1 &  824 &  810 &  14 & AA &  303 & N3CYAA & LGA & ORD & 140 &  733 & 6 & 30 & 2013-01-01 06:00:00\\\\\n\t 2013 & 1 & 1 & 629 & 630 & -1 &  824 &  833 &  -9 & US & 1019 & N426US & EWR & CLT &  91 &  529 & 6 & 30 & 2013-01-01 06:00:00\\\\\n\t 2013 & 1 & 1 & 637 & 645 & -8 &  930 &  935 &  -5 & B6 &  389 & N709JB & LGA & MCO & 144 &  950 & 6 & 45 & 2013-01-01 06:00:00\\\\\n\t 2013 & 1 & 1 & 639 & 640 & -1 &  739 &  749 & -10 & B6 & 1002 & N805JB & JFK & BOS &  41 &  187 & 6 & 40 & 2013-01-01 06:00:00\\\\\n\t 2013 & 1 & 1 & 643 & 645 & -2 &  837 &  848 & -11 & US &  926 & N178US & EWR & CLT &  91 &  529 & 6 & 45 & 2013-01-01 06:00:00\\\\\n\t 2013 & 1 & 1 & 656 & 700 & -4 &  854 &  850 &   4 & AA &  305 & N4WNAA & LGA & ORD & 143 &  733 & 7 &  0 & 2013-01-01 07:00:00\\\\\n\t 2013 & 1 & 1 & 656 & 659 & -3 &  949 &  959 & -10 & AA & 1815 & N5FMAA & JFK & MCO & 142 &  944 & 6 & 59 & 2013-01-01 06:00:00\\\\\n\t 2013 & 1 & 1 & 658 & 700 & -2 &  944 &  939 &   5 & DL & 1547 & N6703D & LGA & ATL & 126 &  762 & 7 &  0 & 2013-01-01 07:00:00\\\\\n\t 2013 & 1 & 1 & 658 & 700 & -2 & 1027 & 1025 &   2 & VX &  399 & N627VA & JFK & LAX & 361 & 2475 & 7 &  0 & 2013-01-01 07:00:00\\\\\n\t 2013 & 1 & 1 & 702 & 700 &  2 & 1058 & 1014 &  44 & B6 &  671 & N779JB & JFK & LAX & 381 & 2475 & 7 &  0 & 2013-01-01 07:00:00\\\\\n\t 2013 & 1 & 1 & 709 & 700 &  9 &  852 &  832 &  20 & UA & 1092 & N26226 & LGA & ORD & 135 &  733 & 7 &  0 & 2013-01-01 07:00:00\\\\\n\t 2013 & 1 & 1 & 715 & 713 &  2 &  911 &  850 &  21 & UA &  544 & N841UA & EWR & ORD & 156 &  719 & 7 & 13 & 2013-01-01 07:00:00\\\\\n\t 2013 & 1 & 1 & 719 & 721 & -2 & 1017 & 1012 &   5 & B6 &  987 & N562JB & JFK & MCO & 147 &  944 & 7 & 21 & 2013-01-01 07:00:00\\\\\n\t 2013 & 1 & 1 & 732 & 645 & 47 & 1011 &  941 &  30 & UA & 1111 & N37456 & EWR & MCO & 145 &  937 & 6 & 45 & 2013-01-01 06:00:00\\\\\n\t 2013 & 1 & 1 & 739 & 745 & -6 &  918 &  930 & -12 & AA &  309 & N4WPAA & LGA & ORD & 137 &  733 & 7 & 45 & 2013-01-01 07:00:00\\\\\n\t 2013 & 1 & 1 & 743 & 730 & 13 & 1107 & 1100 &   7 & AA &   33 & N338AA & JFK & LAX & 358 & 2475 & 7 & 30 & 2013-01-01 07:00:00\\\\\n\t 2013 & 1 & 1 & 749 & 710 & 39 &  939 &  850 &  49 & MQ & 3737 & N508MQ & EWR & ORD & 148 &  719 & 7 & 10 & 2013-01-01 07:00:00\\\\\n\t 2013 & 1 & 1 & 752 & 755 & -3 & 1041 & 1059 & -18 & DL & 2263 & N325US & LGA & MCO & 140 &  950 & 7 & 55 & 2013-01-01 07:00:00\\\\\n\t 2013 & 1 & 1 & 752 & 759 & -7 &  955 &  959 &  -4 & US & 1733 & N543UW & LGA & CLT &  96 &  544 & 7 & 59 & 2013-01-01 07:00:00\\\\\n\t ⋮ & ⋮ & ⋮ & ⋮ & ⋮ & ⋮ & ⋮ & ⋮ & ⋮ & ⋮ & ⋮ & ⋮ & ⋮ & ⋮ & ⋮ & ⋮ & ⋮ & ⋮ & ⋮\\\\\n\t 2013 & 9 & 30 & 1944 & 1950 &  -6 & 2208 & 2215 &  -7 & MQ & 3662 & N507MQ & LGA & ATL & 100 &  762 & 19 & 50 & 2013-09-30 19:00:00\\\\\n\t 2013 & 9 & 30 & 1953 & 2000 &  -7 & 2119 & 2132 & -13 & UA &  695 & N853UA & LGA & ORD & 107 &  733 & 20 &  0 & 2013-09-30 20:00:00\\\\\n\t 2013 & 9 & 30 & 1955 & 2000 &  -5 & 2219 & 2230 & -11 & DL & 1147 & N992DL & LGA & ATL &  99 &  762 & 20 &  0 & 2013-09-30 20:00:00\\\\\n\t 2013 & 9 & 30 & 1955 & 2000 &  -5 & 2112 & 2114 &  -2 & US & 2162 & N957UW & LGA & BOS &  35 &  184 & 20 &  0 & 2013-09-30 20:00:00\\\\\n\t 2013 & 9 & 30 & 1958 & 2005 &  -7 & 2119 & 2130 & -11 & MQ & 3604 & N511MQ & EWR & ORD & 102 &  719 & 20 &  5 & 2013-09-30 20:00:00\\\\\n\t 2013 & 9 & 30 & 2000 & 2000 &   0 & 2207 & 2211 &  -4 & YV & 2677 & N924FJ & LGA & CLT &  75 &  544 & 20 &  0 & 2013-09-30 20:00:00\\\\\n\t 2013 & 9 & 30 & 2003 & 2004 &  -1 & 2235 & 2314 & -39 & UA & 1224 & N38473 & EWR & LAX & 295 & 2454 & 20 &  4 & 2013-09-30 20:00:00\\\\\n\t 2013 & 9 & 30 & 2009 & 2000 &   9 & 2238 & 2300 & -22 & VX &  415 & N844VA & JFK & LAX & 303 & 2475 & 20 &  0 & 2013-09-30 20:00:00\\\\\n\t 2013 & 9 & 30 & 2009 & 2009 &   0 & 2126 & 2129 &  -3 & UA & 1049 & N77258 & EWR & BOS &  38 &  200 & 20 &  9 & 2013-09-30 20:00:00\\\\\n\t 2013 & 9 & 30 & 2010 & 2015 &  -5 & 2100 & 2125 & -25 & B6 &  418 & N249JB & JFK & BOS &  35 &  187 & 20 & 15 & 2013-09-30 20:00:00\\\\\n\t 2013 & 9 & 30 & 2017 & 2022 &  -5 & 2132 & 2155 & -23 & B6 &  105 & N298JB & JFK & ORD & 112 &  740 & 20 & 22 & 2013-09-30 20:00:00\\\\\n\t 2013 & 9 & 30 & 2017 & 2017 &   0 & 2253 & 2320 & -27 & UA &  771 & N510UA & JFK & LAX & 304 & 2475 & 20 & 17 & 2013-09-30 20:00:00\\\\\n\t 2013 & 9 & 30 & 2022 & 2025 &  -3 & 2127 & 2140 & -13 & AA & 2314 & N3CUAA & JFK & BOS &  37 &  187 & 20 & 25 & 2013-09-30 20:00:00\\\\\n\t 2013 & 9 & 30 & 2028 & 1910 &  78 & 2255 & 2215 &  40 & AA &   21 & N338AA & JFK & LAX & 294 & 2475 & 19 & 10 & 2013-09-30 19:00:00\\\\\n\t 2013 & 9 & 30 & 2030 & 2045 & -15 & 2141 & 2153 & -12 & B6 & 2680 & N266JB & EWR & BOS &  38 &  200 & 20 & 45 & 2013-09-30 20:00:00\\\\\n\t 2013 & 9 & 30 & 2032 & 2045 & -13 & 2147 & 2225 & -38 & AA &  371 & N434AA & LGA & ORD & 105 &  733 & 20 & 45 & 2013-09-30 20:00:00\\\\\n\t 2013 & 9 & 30 & 2041 & 2045 &  -4 & 2147 & 2208 & -21 & DL &  985 & N359NB & JFK & BOS &  37 &  187 & 20 & 45 & 2013-09-30 20:00:00\\\\\n\t 2013 & 9 & 30 & 2050 & 2100 & -10 & 2312 & 2344 & -32 & B6 &  499 & N606JB & LGA & MCO & 122 &  950 & 21 &  0 & 2013-09-30 21:00:00\\\\\n\t 2013 & 9 & 30 & 2051 & 2054 &  -3 & 2348 & 2359 & -11 & B6 &  523 & N605JB & JFK & LAX & 304 & 2475 & 20 & 54 & 2013-09-30 20:00:00\\\\\n\t 2013 & 9 & 30 & 2052 & 2059 &  -7 & 2315 & 2358 & -43 & UA & 1416 & N68453 & EWR & MCO & 123 &  937 & 20 & 59 & 2013-09-30 20:00:00\\\\\n\t 2013 & 9 & 30 & 2053 & 1815 & 158 & 2310 & 2054 & 136 & EV & 5292 & N600QX & EWR & ATL &  91 &  746 & 18 & 15 & 2013-09-30 18:00:00\\\\\n\t 2013 & 9 & 30 & 2054 & 2100 &  -6 & 2240 & 2245 &  -5 & MQ & 3384 & N528MQ & LGA & CLT &  70 &  544 & 21 &  0 & 2013-09-30 21:00:00\\\\\n\t 2013 & 9 & 30 & 2055 & 2059 &  -4 & 2158 & 2211 & -13 & UA & 1066 & N16701 & EWR & BOS &  40 &  200 & 20 & 59 & 2013-09-30 20:00:00\\\\\n\t 2013 & 9 & 30 & 2057 & 2100 &  -3 & 2149 & 2211 & -22 & US & 2164 & N953UW & LGA & BOS &  35 &  184 & 21 &  0 & 2013-09-30 21:00:00\\\\\n\t 2013 & 9 & 30 & 2121 & 2100 &  21 & 2349 &   14 & -25 & DL & 2363 & N193DN & JFK & LAX & 296 & 2475 & 21 &  0 & 2013-09-30 21:00:00\\\\\n\t 2013 & 9 & 30 & 2127 & 2129 &  -2 & 2314 & 2323 &  -9 & EV & 3833 & N16546 & EWR & CLT &  72 &  529 & 21 & 29 & 2013-09-30 21:00:00\\\\\n\t 2013 & 9 & 30 & 2140 & 2140 &   0 &   10 &   40 & -30 & AA &  185 & N335AA & JFK & LAX & 298 & 2475 & 21 & 40 & 2013-09-30 21:00:00\\\\\n\t 2013 & 9 & 30 & 2149 & 2156 &  -7 & 2245 & 2308 & -23 & UA &  523 & N813UA & EWR & BOS &  37 &  200 & 21 & 56 & 2013-09-30 21:00:00\\\\\n\t 2013 & 9 & 30 & 2235 & 2001 & 154 &   59 & 2249 & 130 & B6 & 1083 & N804JB & JFK & MCO & 123 &  944 & 20 &  1 & 2013-09-30 20:00:00\\\\\n\t 2013 & 9 & 30 & 2307 & 2255 &  12 & 2359 & 2358 &   1 & B6 &  718 & N565JB & JFK & BOS &  33 &  187 & 22 & 55 & 2013-09-30 22:00:00\\\\\n\\end{tabular}\n",
            "text/plain": [
              "      year month day dep_time sched_dep_time dep_delay arr_time sched_arr_time\n",
              "1     2013 1     1   554      600            -6         812      837          \n",
              "2     2013 1     1   554      558            -4         740      728          \n",
              "3     2013 1     1   557      600            -3         838      846          \n",
              "4     2013 1     1   558      600            -2         753      745          \n",
              "5     2013 1     1   558      600            -2         924      917          \n",
              "6     2013 1     1   559      559             0         702      706          \n",
              "7     2013 1     1   600      600             0         837      825          \n",
              "8     2013 1     1   606      610            -4         837      845          \n",
              "9     2013 1     1   608      600             8         807      735          \n",
              "10    2013 1     1   615      615             0         833      842          \n",
              "11    2013 1     1   628      630            -2        1016      947          \n",
              "12    2013 1     1   629      630            -1         824      810          \n",
              "13    2013 1     1   629      630            -1         824      833          \n",
              "14    2013 1     1   637      645            -8         930      935          \n",
              "15    2013 1     1   639      640            -1         739      749          \n",
              "16    2013 1     1   643      645            -2         837      848          \n",
              "17    2013 1     1   656      700            -4         854      850          \n",
              "18    2013 1     1   656      659            -3         949      959          \n",
              "19    2013 1     1   658      700            -2         944      939          \n",
              "20    2013 1     1   658      700            -2        1027     1025          \n",
              "21    2013 1     1   702      700             2        1058     1014          \n",
              "22    2013 1     1   709      700             9         852      832          \n",
              "23    2013 1     1   715      713             2         911      850          \n",
              "24    2013 1     1   719      721            -2        1017     1012          \n",
              "25    2013 1     1   732      645            47        1011      941          \n",
              "26    2013 1     1   739      745            -6         918      930          \n",
              "27    2013 1     1   743      730            13        1107     1100          \n",
              "28    2013 1     1   749      710            39         939      850          \n",
              "29    2013 1     1   752      755            -3        1041     1059          \n",
              "30    2013 1     1   752      759            -7         955      959          \n",
              "⋮     ⋮    ⋮     ⋮   ⋮        ⋮              ⋮         ⋮        ⋮             \n",
              "94297 2013 9     30  1944     1950            -6       2208     2215          \n",
              "94298 2013 9     30  1953     2000            -7       2119     2132          \n",
              "94299 2013 9     30  1955     2000            -5       2219     2230          \n",
              "94300 2013 9     30  1955     2000            -5       2112     2114          \n",
              "94301 2013 9     30  1958     2005            -7       2119     2130          \n",
              "94302 2013 9     30  2000     2000             0       2207     2211          \n",
              "94303 2013 9     30  2003     2004            -1       2235     2314          \n",
              "94304 2013 9     30  2009     2000             9       2238     2300          \n",
              "94305 2013 9     30  2009     2009             0       2126     2129          \n",
              "94306 2013 9     30  2010     2015            -5       2100     2125          \n",
              "94307 2013 9     30  2017     2022            -5       2132     2155          \n",
              "94308 2013 9     30  2017     2017             0       2253     2320          \n",
              "94309 2013 9     30  2022     2025            -3       2127     2140          \n",
              "94310 2013 9     30  2028     1910            78       2255     2215          \n",
              "94311 2013 9     30  2030     2045           -15       2141     2153          \n",
              "94312 2013 9     30  2032     2045           -13       2147     2225          \n",
              "94313 2013 9     30  2041     2045            -4       2147     2208          \n",
              "94314 2013 9     30  2050     2100           -10       2312     2344          \n",
              "94315 2013 9     30  2051     2054            -3       2348     2359          \n",
              "94316 2013 9     30  2052     2059            -7       2315     2358          \n",
              "94317 2013 9     30  2053     1815           158       2310     2054          \n",
              "94318 2013 9     30  2054     2100            -6       2240     2245          \n",
              "94319 2013 9     30  2055     2059            -4       2158     2211          \n",
              "94320 2013 9     30  2057     2100            -3       2149     2211          \n",
              "94321 2013 9     30  2121     2100            21       2349       14          \n",
              "94322 2013 9     30  2127     2129            -2       2314     2323          \n",
              "94323 2013 9     30  2140     2140             0         10       40          \n",
              "94324 2013 9     30  2149     2156            -7       2245     2308          \n",
              "94325 2013 9     30  2235     2001           154         59     2249          \n",
              "94326 2013 9     30  2307     2255            12       2359     2358          \n",
              "      arr_delay carrier flight tailnum origin dest air_time distance hour\n",
              "1     -25       DL       461   N668DN  LGA    ATL  116       762     6   \n",
              "2      12       UA      1696   N39463  EWR    ORD  150       719     5   \n",
              "3      -8       B6        79   N593JB  JFK    MCO  140       944     6   \n",
              "4       8       AA       301   N3ALAA  LGA    ORD  138       733     6   \n",
              "5       7       UA       194   N29129  JFK    LAX  345      2475     6   \n",
              "6      -4       B6      1806   N708JB  JFK    BOS   44       187     5   \n",
              "7      12       MQ      4650   N542MQ  LGA    ATL  134       762     6   \n",
              "8      -8       DL      1743   N3739P  JFK    ATL  128       760     6   \n",
              "9      32       MQ      3768   N9EAMQ  EWR    ORD  139       719     6   \n",
              "10     -9       DL       575   N326NB  EWR    ATL  120       746     6   \n",
              "11     29       UA      1665   N33289  EWR    LAX  366      2454     6   \n",
              "12     14       AA       303   N3CYAA  LGA    ORD  140       733     6   \n",
              "13     -9       US      1019   N426US  EWR    CLT   91       529     6   \n",
              "14     -5       B6       389   N709JB  LGA    MCO  144       950     6   \n",
              "15    -10       B6      1002   N805JB  JFK    BOS   41       187     6   \n",
              "16    -11       US       926   N178US  EWR    CLT   91       529     6   \n",
              "17      4       AA       305   N4WNAA  LGA    ORD  143       733     7   \n",
              "18    -10       AA      1815   N5FMAA  JFK    MCO  142       944     6   \n",
              "19      5       DL      1547   N6703D  LGA    ATL  126       762     7   \n",
              "20      2       VX       399   N627VA  JFK    LAX  361      2475     7   \n",
              "21     44       B6       671   N779JB  JFK    LAX  381      2475     7   \n",
              "22     20       UA      1092   N26226  LGA    ORD  135       733     7   \n",
              "23     21       UA       544   N841UA  EWR    ORD  156       719     7   \n",
              "24      5       B6       987   N562JB  JFK    MCO  147       944     7   \n",
              "25     30       UA      1111   N37456  EWR    MCO  145       937     6   \n",
              "26    -12       AA       309   N4WPAA  LGA    ORD  137       733     7   \n",
              "27      7       AA        33   N338AA  JFK    LAX  358      2475     7   \n",
              "28     49       MQ      3737   N508MQ  EWR    ORD  148       719     7   \n",
              "29    -18       DL      2263   N325US  LGA    MCO  140       950     7   \n",
              "30     -4       US      1733   N543UW  LGA    CLT   96       544     7   \n",
              "⋮     ⋮         ⋮       ⋮      ⋮       ⋮      ⋮    ⋮        ⋮        ⋮   \n",
              "94297  -7       MQ      3662   N507MQ  LGA    ATL  100       762     19  \n",
              "94298 -13       UA       695   N853UA  LGA    ORD  107       733     20  \n",
              "94299 -11       DL      1147   N992DL  LGA    ATL   99       762     20  \n",
              "94300  -2       US      2162   N957UW  LGA    BOS   35       184     20  \n",
              "94301 -11       MQ      3604   N511MQ  EWR    ORD  102       719     20  \n",
              "94302  -4       YV      2677   N924FJ  LGA    CLT   75       544     20  \n",
              "94303 -39       UA      1224   N38473  EWR    LAX  295      2454     20  \n",
              "94304 -22       VX       415   N844VA  JFK    LAX  303      2475     20  \n",
              "94305  -3       UA      1049   N77258  EWR    BOS   38       200     20  \n",
              "94306 -25       B6       418   N249JB  JFK    BOS   35       187     20  \n",
              "94307 -23       B6       105   N298JB  JFK    ORD  112       740     20  \n",
              "94308 -27       UA       771   N510UA  JFK    LAX  304      2475     20  \n",
              "94309 -13       AA      2314   N3CUAA  JFK    BOS   37       187     20  \n",
              "94310  40       AA        21   N338AA  JFK    LAX  294      2475     19  \n",
              "94311 -12       B6      2680   N266JB  EWR    BOS   38       200     20  \n",
              "94312 -38       AA       371   N434AA  LGA    ORD  105       733     20  \n",
              "94313 -21       DL       985   N359NB  JFK    BOS   37       187     20  \n",
              "94314 -32       B6       499   N606JB  LGA    MCO  122       950     21  \n",
              "94315 -11       B6       523   N605JB  JFK    LAX  304      2475     20  \n",
              "94316 -43       UA      1416   N68453  EWR    MCO  123       937     20  \n",
              "94317 136       EV      5292   N600QX  EWR    ATL   91       746     18  \n",
              "94318  -5       MQ      3384   N528MQ  LGA    CLT   70       544     21  \n",
              "94319 -13       UA      1066   N16701  EWR    BOS   40       200     20  \n",
              "94320 -22       US      2164   N953UW  LGA    BOS   35       184     21  \n",
              "94321 -25       DL      2363   N193DN  JFK    LAX  296      2475     21  \n",
              "94322  -9       EV      3833   N16546  EWR    CLT   72       529     21  \n",
              "94323 -30       AA       185   N335AA  JFK    LAX  298      2475     21  \n",
              "94324 -23       UA       523   N813UA  EWR    BOS   37       200     21  \n",
              "94325 130       B6      1083   N804JB  JFK    MCO  123       944     20  \n",
              "94326   1       B6       718   N565JB  JFK    BOS   33       187     22  \n",
              "      minute time_hour          \n",
              "1      0     2013-01-01 06:00:00\n",
              "2     58     2013-01-01 05:00:00\n",
              "3      0     2013-01-01 06:00:00\n",
              "4      0     2013-01-01 06:00:00\n",
              "5      0     2013-01-01 06:00:00\n",
              "6     59     2013-01-01 05:00:00\n",
              "7      0     2013-01-01 06:00:00\n",
              "8     10     2013-01-01 06:00:00\n",
              "9      0     2013-01-01 06:00:00\n",
              "10    15     2013-01-01 06:00:00\n",
              "11    30     2013-01-01 06:00:00\n",
              "12    30     2013-01-01 06:00:00\n",
              "13    30     2013-01-01 06:00:00\n",
              "14    45     2013-01-01 06:00:00\n",
              "15    40     2013-01-01 06:00:00\n",
              "16    45     2013-01-01 06:00:00\n",
              "17     0     2013-01-01 07:00:00\n",
              "18    59     2013-01-01 06:00:00\n",
              "19     0     2013-01-01 07:00:00\n",
              "20     0     2013-01-01 07:00:00\n",
              "21     0     2013-01-01 07:00:00\n",
              "22     0     2013-01-01 07:00:00\n",
              "23    13     2013-01-01 07:00:00\n",
              "24    21     2013-01-01 07:00:00\n",
              "25    45     2013-01-01 06:00:00\n",
              "26    45     2013-01-01 07:00:00\n",
              "27    30     2013-01-01 07:00:00\n",
              "28    10     2013-01-01 07:00:00\n",
              "29    55     2013-01-01 07:00:00\n",
              "30    59     2013-01-01 07:00:00\n",
              "⋮     ⋮      ⋮                  \n",
              "94297 50     2013-09-30 19:00:00\n",
              "94298  0     2013-09-30 20:00:00\n",
              "94299  0     2013-09-30 20:00:00\n",
              "94300  0     2013-09-30 20:00:00\n",
              "94301  5     2013-09-30 20:00:00\n",
              "94302  0     2013-09-30 20:00:00\n",
              "94303  4     2013-09-30 20:00:00\n",
              "94304  0     2013-09-30 20:00:00\n",
              "94305  9     2013-09-30 20:00:00\n",
              "94306 15     2013-09-30 20:00:00\n",
              "94307 22     2013-09-30 20:00:00\n",
              "94308 17     2013-09-30 20:00:00\n",
              "94309 25     2013-09-30 20:00:00\n",
              "94310 10     2013-09-30 19:00:00\n",
              "94311 45     2013-09-30 20:00:00\n",
              "94312 45     2013-09-30 20:00:00\n",
              "94313 45     2013-09-30 20:00:00\n",
              "94314  0     2013-09-30 21:00:00\n",
              "94315 54     2013-09-30 20:00:00\n",
              "94316 59     2013-09-30 20:00:00\n",
              "94317 15     2013-09-30 18:00:00\n",
              "94318  0     2013-09-30 21:00:00\n",
              "94319 59     2013-09-30 20:00:00\n",
              "94320  0     2013-09-30 21:00:00\n",
              "94321  0     2013-09-30 21:00:00\n",
              "94322 29     2013-09-30 21:00:00\n",
              "94323 40     2013-09-30 21:00:00\n",
              "94324 56     2013-09-30 21:00:00\n",
              "94325  1     2013-09-30 20:00:00\n",
              "94326 55     2013-09-30 22:00:00"
            ]
          },
          "metadata": {}
        }
      ],
      "source": [
        "dest_top6 <- count(flights, dest) %>% top_n(6) %>% print\n",
        "filter(flights, dest %in% dest_top6$dest) "
      ]
    },
    {
      "cell_type": "markdown",
      "metadata": {
        "deletable": false,
        "editable": false,
        "nbgrader": {
          "grade": false,
          "grade_id": "cell-3579a85756940588",
          "locked": true,
          "schema_version": 3,
          "solution": false
        },
        "run_control": {
          "frozen": true
        },
        "id": "zrbF_O_ygvmm"
      },
      "source": [
        "Use `filter()` to subset the flights table down to only those for the top six destinations. You should end up with a table that has 94,326 rows, the first ten of which look like:  _1/2 point_\n",
        "\n",
        "    # A tibble: 94,326 × 19\n",
        "        year month   day dep_time sched_dep_time dep_delay arr_time sched_arr_time\n",
        "       <int> <int> <int>    <int>          <int>     <dbl>    <int>          <int>\n",
        "     1  2013     1     1      554            600        -6      812            837\n",
        "     2  2013     1     1      554            558        -4      740            728\n",
        "     3  2013     1     1      557            600        -3      838            846\n",
        "     4  2013     1     1      558            600        -2      753            745\n",
        "     5  2013     1     1      558            600        -2      924            917\n",
        "     6  2013     1     1      559            559         0      702            706\n",
        "     7  2013     1     1      600            600         0      837            825\n",
        "     8  2013     1     1      606            610        -4      837            845\n",
        "     9  2013     1     1      608            600         8      807            735\n",
        "    10  2013     1     1      615            615         0      833            842\n",
        "    # … with 94,316 more rows, and 11 more variables: arr_delay <dbl>,\n",
        "    #   carrier <chr>, flight <int>, tailnum <chr>, origin <chr>, dest <chr>,\n",
        "    #   air_time <dbl>, distance <dbl>, hour <dbl>, minute <dbl>, time_hour <dttm>"
      ]
    },
    {
      "cell_type": "code",
      "execution_count": 10,
      "metadata": {
        "nbgrader": {
          "grade": true,
          "grade_id": "cell-e2674c47464dfc5d",
          "locked": false,
          "points": 1,
          "schema_version": 3,
          "solution": true
        },
        "id": "gbuSTvZGgvmn",
        "colab": {
          "base_uri": "https://localhost:8080/",
          "height": 1000
        },
        "outputId": "5be8a55b-d382-4bbb-843e-6d48b5bbf6ff"
      },
      "outputs": [
        {
          "output_type": "display_data",
          "data": {
            "text/html": [
              "<table class=\"dataframe\">\n",
              "<caption>A tibble: 94326 × 19</caption>\n",
              "<thead>\n",
              "\t<tr><th scope=col>year</th><th scope=col>month</th><th scope=col>day</th><th scope=col>dep_time</th><th scope=col>sched_dep_time</th><th scope=col>dep_delay</th><th scope=col>arr_time</th><th scope=col>sched_arr_time</th><th scope=col>arr_delay</th><th scope=col>carrier</th><th scope=col>flight</th><th scope=col>tailnum</th><th scope=col>origin</th><th scope=col>dest</th><th scope=col>air_time</th><th scope=col>distance</th><th scope=col>hour</th><th scope=col>minute</th><th scope=col>time_hour</th></tr>\n",
              "\t<tr><th scope=col>&lt;int&gt;</th><th scope=col>&lt;int&gt;</th><th scope=col>&lt;int&gt;</th><th scope=col>&lt;int&gt;</th><th scope=col>&lt;int&gt;</th><th scope=col>&lt;dbl&gt;</th><th scope=col>&lt;int&gt;</th><th scope=col>&lt;int&gt;</th><th scope=col>&lt;dbl&gt;</th><th scope=col>&lt;chr&gt;</th><th scope=col>&lt;int&gt;</th><th scope=col>&lt;chr&gt;</th><th scope=col>&lt;chr&gt;</th><th scope=col>&lt;chr&gt;</th><th scope=col>&lt;dbl&gt;</th><th scope=col>&lt;dbl&gt;</th><th scope=col>&lt;dbl&gt;</th><th scope=col>&lt;dbl&gt;</th><th scope=col>&lt;dttm&gt;</th></tr>\n",
              "</thead>\n",
              "<tbody>\n",
              "\t<tr><td>2013</td><td>1</td><td>1</td><td>554</td><td>600</td><td>-6</td><td> 812</td><td> 837</td><td>-25</td><td>DL</td><td> 461</td><td>N668DN</td><td>LGA</td><td>ATL</td><td>116</td><td> 762</td><td>6</td><td> 0</td><td>2013-01-01 06:00:00</td></tr>\n",
              "\t<tr><td>2013</td><td>1</td><td>1</td><td>554</td><td>558</td><td>-4</td><td> 740</td><td> 728</td><td> 12</td><td>UA</td><td>1696</td><td>N39463</td><td>EWR</td><td>ORD</td><td>150</td><td> 719</td><td>5</td><td>58</td><td>2013-01-01 05:00:00</td></tr>\n",
              "\t<tr><td>2013</td><td>1</td><td>1</td><td>557</td><td>600</td><td>-3</td><td> 838</td><td> 846</td><td> -8</td><td>B6</td><td>  79</td><td>N593JB</td><td>JFK</td><td>MCO</td><td>140</td><td> 944</td><td>6</td><td> 0</td><td>2013-01-01 06:00:00</td></tr>\n",
              "\t<tr><td>2013</td><td>1</td><td>1</td><td>558</td><td>600</td><td>-2</td><td> 753</td><td> 745</td><td>  8</td><td>AA</td><td> 301</td><td>N3ALAA</td><td>LGA</td><td>ORD</td><td>138</td><td> 733</td><td>6</td><td> 0</td><td>2013-01-01 06:00:00</td></tr>\n",
              "\t<tr><td>2013</td><td>1</td><td>1</td><td>558</td><td>600</td><td>-2</td><td> 924</td><td> 917</td><td>  7</td><td>UA</td><td> 194</td><td>N29129</td><td>JFK</td><td>LAX</td><td>345</td><td>2475</td><td>6</td><td> 0</td><td>2013-01-01 06:00:00</td></tr>\n",
              "\t<tr><td>2013</td><td>1</td><td>1</td><td>559</td><td>559</td><td> 0</td><td> 702</td><td> 706</td><td> -4</td><td>B6</td><td>1806</td><td>N708JB</td><td>JFK</td><td>BOS</td><td> 44</td><td> 187</td><td>5</td><td>59</td><td>2013-01-01 05:00:00</td></tr>\n",
              "\t<tr><td>2013</td><td>1</td><td>1</td><td>600</td><td>600</td><td> 0</td><td> 837</td><td> 825</td><td> 12</td><td>MQ</td><td>4650</td><td>N542MQ</td><td>LGA</td><td>ATL</td><td>134</td><td> 762</td><td>6</td><td> 0</td><td>2013-01-01 06:00:00</td></tr>\n",
              "\t<tr><td>2013</td><td>1</td><td>1</td><td>606</td><td>610</td><td>-4</td><td> 837</td><td> 845</td><td> -8</td><td>DL</td><td>1743</td><td>N3739P</td><td>JFK</td><td>ATL</td><td>128</td><td> 760</td><td>6</td><td>10</td><td>2013-01-01 06:00:00</td></tr>\n",
              "\t<tr><td>2013</td><td>1</td><td>1</td><td>608</td><td>600</td><td> 8</td><td> 807</td><td> 735</td><td> 32</td><td>MQ</td><td>3768</td><td>N9EAMQ</td><td>EWR</td><td>ORD</td><td>139</td><td> 719</td><td>6</td><td> 0</td><td>2013-01-01 06:00:00</td></tr>\n",
              "\t<tr><td>2013</td><td>1</td><td>1</td><td>615</td><td>615</td><td> 0</td><td> 833</td><td> 842</td><td> -9</td><td>DL</td><td> 575</td><td>N326NB</td><td>EWR</td><td>ATL</td><td>120</td><td> 746</td><td>6</td><td>15</td><td>2013-01-01 06:00:00</td></tr>\n",
              "\t<tr><td>2013</td><td>1</td><td>1</td><td>628</td><td>630</td><td>-2</td><td>1016</td><td> 947</td><td> 29</td><td>UA</td><td>1665</td><td>N33289</td><td>EWR</td><td>LAX</td><td>366</td><td>2454</td><td>6</td><td>30</td><td>2013-01-01 06:00:00</td></tr>\n",
              "\t<tr><td>2013</td><td>1</td><td>1</td><td>629</td><td>630</td><td>-1</td><td> 824</td><td> 810</td><td> 14</td><td>AA</td><td> 303</td><td>N3CYAA</td><td>LGA</td><td>ORD</td><td>140</td><td> 733</td><td>6</td><td>30</td><td>2013-01-01 06:00:00</td></tr>\n",
              "\t<tr><td>2013</td><td>1</td><td>1</td><td>629</td><td>630</td><td>-1</td><td> 824</td><td> 833</td><td> -9</td><td>US</td><td>1019</td><td>N426US</td><td>EWR</td><td>CLT</td><td> 91</td><td> 529</td><td>6</td><td>30</td><td>2013-01-01 06:00:00</td></tr>\n",
              "\t<tr><td>2013</td><td>1</td><td>1</td><td>637</td><td>645</td><td>-8</td><td> 930</td><td> 935</td><td> -5</td><td>B6</td><td> 389</td><td>N709JB</td><td>LGA</td><td>MCO</td><td>144</td><td> 950</td><td>6</td><td>45</td><td>2013-01-01 06:00:00</td></tr>\n",
              "\t<tr><td>2013</td><td>1</td><td>1</td><td>639</td><td>640</td><td>-1</td><td> 739</td><td> 749</td><td>-10</td><td>B6</td><td>1002</td><td>N805JB</td><td>JFK</td><td>BOS</td><td> 41</td><td> 187</td><td>6</td><td>40</td><td>2013-01-01 06:00:00</td></tr>\n",
              "\t<tr><td>2013</td><td>1</td><td>1</td><td>643</td><td>645</td><td>-2</td><td> 837</td><td> 848</td><td>-11</td><td>US</td><td> 926</td><td>N178US</td><td>EWR</td><td>CLT</td><td> 91</td><td> 529</td><td>6</td><td>45</td><td>2013-01-01 06:00:00</td></tr>\n",
              "\t<tr><td>2013</td><td>1</td><td>1</td><td>656</td><td>700</td><td>-4</td><td> 854</td><td> 850</td><td>  4</td><td>AA</td><td> 305</td><td>N4WNAA</td><td>LGA</td><td>ORD</td><td>143</td><td> 733</td><td>7</td><td> 0</td><td>2013-01-01 07:00:00</td></tr>\n",
              "\t<tr><td>2013</td><td>1</td><td>1</td><td>656</td><td>659</td><td>-3</td><td> 949</td><td> 959</td><td>-10</td><td>AA</td><td>1815</td><td>N5FMAA</td><td>JFK</td><td>MCO</td><td>142</td><td> 944</td><td>6</td><td>59</td><td>2013-01-01 06:00:00</td></tr>\n",
              "\t<tr><td>2013</td><td>1</td><td>1</td><td>658</td><td>700</td><td>-2</td><td> 944</td><td> 939</td><td>  5</td><td>DL</td><td>1547</td><td>N6703D</td><td>LGA</td><td>ATL</td><td>126</td><td> 762</td><td>7</td><td> 0</td><td>2013-01-01 07:00:00</td></tr>\n",
              "\t<tr><td>2013</td><td>1</td><td>1</td><td>658</td><td>700</td><td>-2</td><td>1027</td><td>1025</td><td>  2</td><td>VX</td><td> 399</td><td>N627VA</td><td>JFK</td><td>LAX</td><td>361</td><td>2475</td><td>7</td><td> 0</td><td>2013-01-01 07:00:00</td></tr>\n",
              "\t<tr><td>2013</td><td>1</td><td>1</td><td>702</td><td>700</td><td> 2</td><td>1058</td><td>1014</td><td> 44</td><td>B6</td><td> 671</td><td>N779JB</td><td>JFK</td><td>LAX</td><td>381</td><td>2475</td><td>7</td><td> 0</td><td>2013-01-01 07:00:00</td></tr>\n",
              "\t<tr><td>2013</td><td>1</td><td>1</td><td>709</td><td>700</td><td> 9</td><td> 852</td><td> 832</td><td> 20</td><td>UA</td><td>1092</td><td>N26226</td><td>LGA</td><td>ORD</td><td>135</td><td> 733</td><td>7</td><td> 0</td><td>2013-01-01 07:00:00</td></tr>\n",
              "\t<tr><td>2013</td><td>1</td><td>1</td><td>715</td><td>713</td><td> 2</td><td> 911</td><td> 850</td><td> 21</td><td>UA</td><td> 544</td><td>N841UA</td><td>EWR</td><td>ORD</td><td>156</td><td> 719</td><td>7</td><td>13</td><td>2013-01-01 07:00:00</td></tr>\n",
              "\t<tr><td>2013</td><td>1</td><td>1</td><td>719</td><td>721</td><td>-2</td><td>1017</td><td>1012</td><td>  5</td><td>B6</td><td> 987</td><td>N562JB</td><td>JFK</td><td>MCO</td><td>147</td><td> 944</td><td>7</td><td>21</td><td>2013-01-01 07:00:00</td></tr>\n",
              "\t<tr><td>2013</td><td>1</td><td>1</td><td>732</td><td>645</td><td>47</td><td>1011</td><td> 941</td><td> 30</td><td>UA</td><td>1111</td><td>N37456</td><td>EWR</td><td>MCO</td><td>145</td><td> 937</td><td>6</td><td>45</td><td>2013-01-01 06:00:00</td></tr>\n",
              "\t<tr><td>2013</td><td>1</td><td>1</td><td>739</td><td>745</td><td>-6</td><td> 918</td><td> 930</td><td>-12</td><td>AA</td><td> 309</td><td>N4WPAA</td><td>LGA</td><td>ORD</td><td>137</td><td> 733</td><td>7</td><td>45</td><td>2013-01-01 07:00:00</td></tr>\n",
              "\t<tr><td>2013</td><td>1</td><td>1</td><td>743</td><td>730</td><td>13</td><td>1107</td><td>1100</td><td>  7</td><td>AA</td><td>  33</td><td>N338AA</td><td>JFK</td><td>LAX</td><td>358</td><td>2475</td><td>7</td><td>30</td><td>2013-01-01 07:00:00</td></tr>\n",
              "\t<tr><td>2013</td><td>1</td><td>1</td><td>749</td><td>710</td><td>39</td><td> 939</td><td> 850</td><td> 49</td><td>MQ</td><td>3737</td><td>N508MQ</td><td>EWR</td><td>ORD</td><td>148</td><td> 719</td><td>7</td><td>10</td><td>2013-01-01 07:00:00</td></tr>\n",
              "\t<tr><td>2013</td><td>1</td><td>1</td><td>752</td><td>755</td><td>-3</td><td>1041</td><td>1059</td><td>-18</td><td>DL</td><td>2263</td><td>N325US</td><td>LGA</td><td>MCO</td><td>140</td><td> 950</td><td>7</td><td>55</td><td>2013-01-01 07:00:00</td></tr>\n",
              "\t<tr><td>2013</td><td>1</td><td>1</td><td>752</td><td>759</td><td>-7</td><td> 955</td><td> 959</td><td> -4</td><td>US</td><td>1733</td><td>N543UW</td><td>LGA</td><td>CLT</td><td> 96</td><td> 544</td><td>7</td><td>59</td><td>2013-01-01 07:00:00</td></tr>\n",
              "\t<tr><td>⋮</td><td>⋮</td><td>⋮</td><td>⋮</td><td>⋮</td><td>⋮</td><td>⋮</td><td>⋮</td><td>⋮</td><td>⋮</td><td>⋮</td><td>⋮</td><td>⋮</td><td>⋮</td><td>⋮</td><td>⋮</td><td>⋮</td><td>⋮</td><td>⋮</td></tr>\n",
              "\t<tr><td>2013</td><td>9</td><td>30</td><td>1944</td><td>1950</td><td> -6</td><td>2208</td><td>2215</td><td> -7</td><td>MQ</td><td>3662</td><td>N507MQ</td><td>LGA</td><td>ATL</td><td>100</td><td> 762</td><td>19</td><td>50</td><td>2013-09-30 19:00:00</td></tr>\n",
              "\t<tr><td>2013</td><td>9</td><td>30</td><td>1953</td><td>2000</td><td> -7</td><td>2119</td><td>2132</td><td>-13</td><td>UA</td><td> 695</td><td>N853UA</td><td>LGA</td><td>ORD</td><td>107</td><td> 733</td><td>20</td><td> 0</td><td>2013-09-30 20:00:00</td></tr>\n",
              "\t<tr><td>2013</td><td>9</td><td>30</td><td>1955</td><td>2000</td><td> -5</td><td>2219</td><td>2230</td><td>-11</td><td>DL</td><td>1147</td><td>N992DL</td><td>LGA</td><td>ATL</td><td> 99</td><td> 762</td><td>20</td><td> 0</td><td>2013-09-30 20:00:00</td></tr>\n",
              "\t<tr><td>2013</td><td>9</td><td>30</td><td>1955</td><td>2000</td><td> -5</td><td>2112</td><td>2114</td><td> -2</td><td>US</td><td>2162</td><td>N957UW</td><td>LGA</td><td>BOS</td><td> 35</td><td> 184</td><td>20</td><td> 0</td><td>2013-09-30 20:00:00</td></tr>\n",
              "\t<tr><td>2013</td><td>9</td><td>30</td><td>1958</td><td>2005</td><td> -7</td><td>2119</td><td>2130</td><td>-11</td><td>MQ</td><td>3604</td><td>N511MQ</td><td>EWR</td><td>ORD</td><td>102</td><td> 719</td><td>20</td><td> 5</td><td>2013-09-30 20:00:00</td></tr>\n",
              "\t<tr><td>2013</td><td>9</td><td>30</td><td>2000</td><td>2000</td><td>  0</td><td>2207</td><td>2211</td><td> -4</td><td>YV</td><td>2677</td><td>N924FJ</td><td>LGA</td><td>CLT</td><td> 75</td><td> 544</td><td>20</td><td> 0</td><td>2013-09-30 20:00:00</td></tr>\n",
              "\t<tr><td>2013</td><td>9</td><td>30</td><td>2003</td><td>2004</td><td> -1</td><td>2235</td><td>2314</td><td>-39</td><td>UA</td><td>1224</td><td>N38473</td><td>EWR</td><td>LAX</td><td>295</td><td>2454</td><td>20</td><td> 4</td><td>2013-09-30 20:00:00</td></tr>\n",
              "\t<tr><td>2013</td><td>9</td><td>30</td><td>2009</td><td>2000</td><td>  9</td><td>2238</td><td>2300</td><td>-22</td><td>VX</td><td> 415</td><td>N844VA</td><td>JFK</td><td>LAX</td><td>303</td><td>2475</td><td>20</td><td> 0</td><td>2013-09-30 20:00:00</td></tr>\n",
              "\t<tr><td>2013</td><td>9</td><td>30</td><td>2009</td><td>2009</td><td>  0</td><td>2126</td><td>2129</td><td> -3</td><td>UA</td><td>1049</td><td>N77258</td><td>EWR</td><td>BOS</td><td> 38</td><td> 200</td><td>20</td><td> 9</td><td>2013-09-30 20:00:00</td></tr>\n",
              "\t<tr><td>2013</td><td>9</td><td>30</td><td>2010</td><td>2015</td><td> -5</td><td>2100</td><td>2125</td><td>-25</td><td>B6</td><td> 418</td><td>N249JB</td><td>JFK</td><td>BOS</td><td> 35</td><td> 187</td><td>20</td><td>15</td><td>2013-09-30 20:00:00</td></tr>\n",
              "\t<tr><td>2013</td><td>9</td><td>30</td><td>2017</td><td>2022</td><td> -5</td><td>2132</td><td>2155</td><td>-23</td><td>B6</td><td> 105</td><td>N298JB</td><td>JFK</td><td>ORD</td><td>112</td><td> 740</td><td>20</td><td>22</td><td>2013-09-30 20:00:00</td></tr>\n",
              "\t<tr><td>2013</td><td>9</td><td>30</td><td>2017</td><td>2017</td><td>  0</td><td>2253</td><td>2320</td><td>-27</td><td>UA</td><td> 771</td><td>N510UA</td><td>JFK</td><td>LAX</td><td>304</td><td>2475</td><td>20</td><td>17</td><td>2013-09-30 20:00:00</td></tr>\n",
              "\t<tr><td>2013</td><td>9</td><td>30</td><td>2022</td><td>2025</td><td> -3</td><td>2127</td><td>2140</td><td>-13</td><td>AA</td><td>2314</td><td>N3CUAA</td><td>JFK</td><td>BOS</td><td> 37</td><td> 187</td><td>20</td><td>25</td><td>2013-09-30 20:00:00</td></tr>\n",
              "\t<tr><td>2013</td><td>9</td><td>30</td><td>2028</td><td>1910</td><td> 78</td><td>2255</td><td>2215</td><td> 40</td><td>AA</td><td>  21</td><td>N338AA</td><td>JFK</td><td>LAX</td><td>294</td><td>2475</td><td>19</td><td>10</td><td>2013-09-30 19:00:00</td></tr>\n",
              "\t<tr><td>2013</td><td>9</td><td>30</td><td>2030</td><td>2045</td><td>-15</td><td>2141</td><td>2153</td><td>-12</td><td>B6</td><td>2680</td><td>N266JB</td><td>EWR</td><td>BOS</td><td> 38</td><td> 200</td><td>20</td><td>45</td><td>2013-09-30 20:00:00</td></tr>\n",
              "\t<tr><td>2013</td><td>9</td><td>30</td><td>2032</td><td>2045</td><td>-13</td><td>2147</td><td>2225</td><td>-38</td><td>AA</td><td> 371</td><td>N434AA</td><td>LGA</td><td>ORD</td><td>105</td><td> 733</td><td>20</td><td>45</td><td>2013-09-30 20:00:00</td></tr>\n",
              "\t<tr><td>2013</td><td>9</td><td>30</td><td>2041</td><td>2045</td><td> -4</td><td>2147</td><td>2208</td><td>-21</td><td>DL</td><td> 985</td><td>N359NB</td><td>JFK</td><td>BOS</td><td> 37</td><td> 187</td><td>20</td><td>45</td><td>2013-09-30 20:00:00</td></tr>\n",
              "\t<tr><td>2013</td><td>9</td><td>30</td><td>2050</td><td>2100</td><td>-10</td><td>2312</td><td>2344</td><td>-32</td><td>B6</td><td> 499</td><td>N606JB</td><td>LGA</td><td>MCO</td><td>122</td><td> 950</td><td>21</td><td> 0</td><td>2013-09-30 21:00:00</td></tr>\n",
              "\t<tr><td>2013</td><td>9</td><td>30</td><td>2051</td><td>2054</td><td> -3</td><td>2348</td><td>2359</td><td>-11</td><td>B6</td><td> 523</td><td>N605JB</td><td>JFK</td><td>LAX</td><td>304</td><td>2475</td><td>20</td><td>54</td><td>2013-09-30 20:00:00</td></tr>\n",
              "\t<tr><td>2013</td><td>9</td><td>30</td><td>2052</td><td>2059</td><td> -7</td><td>2315</td><td>2358</td><td>-43</td><td>UA</td><td>1416</td><td>N68453</td><td>EWR</td><td>MCO</td><td>123</td><td> 937</td><td>20</td><td>59</td><td>2013-09-30 20:00:00</td></tr>\n",
              "\t<tr><td>2013</td><td>9</td><td>30</td><td>2053</td><td>1815</td><td>158</td><td>2310</td><td>2054</td><td>136</td><td>EV</td><td>5292</td><td>N600QX</td><td>EWR</td><td>ATL</td><td> 91</td><td> 746</td><td>18</td><td>15</td><td>2013-09-30 18:00:00</td></tr>\n",
              "\t<tr><td>2013</td><td>9</td><td>30</td><td>2054</td><td>2100</td><td> -6</td><td>2240</td><td>2245</td><td> -5</td><td>MQ</td><td>3384</td><td>N528MQ</td><td>LGA</td><td>CLT</td><td> 70</td><td> 544</td><td>21</td><td> 0</td><td>2013-09-30 21:00:00</td></tr>\n",
              "\t<tr><td>2013</td><td>9</td><td>30</td><td>2055</td><td>2059</td><td> -4</td><td>2158</td><td>2211</td><td>-13</td><td>UA</td><td>1066</td><td>N16701</td><td>EWR</td><td>BOS</td><td> 40</td><td> 200</td><td>20</td><td>59</td><td>2013-09-30 20:00:00</td></tr>\n",
              "\t<tr><td>2013</td><td>9</td><td>30</td><td>2057</td><td>2100</td><td> -3</td><td>2149</td><td>2211</td><td>-22</td><td>US</td><td>2164</td><td>N953UW</td><td>LGA</td><td>BOS</td><td> 35</td><td> 184</td><td>21</td><td> 0</td><td>2013-09-30 21:00:00</td></tr>\n",
              "\t<tr><td>2013</td><td>9</td><td>30</td><td>2121</td><td>2100</td><td> 21</td><td>2349</td><td>  14</td><td>-25</td><td>DL</td><td>2363</td><td>N193DN</td><td>JFK</td><td>LAX</td><td>296</td><td>2475</td><td>21</td><td> 0</td><td>2013-09-30 21:00:00</td></tr>\n",
              "\t<tr><td>2013</td><td>9</td><td>30</td><td>2127</td><td>2129</td><td> -2</td><td>2314</td><td>2323</td><td> -9</td><td>EV</td><td>3833</td><td>N16546</td><td>EWR</td><td>CLT</td><td> 72</td><td> 529</td><td>21</td><td>29</td><td>2013-09-30 21:00:00</td></tr>\n",
              "\t<tr><td>2013</td><td>9</td><td>30</td><td>2140</td><td>2140</td><td>  0</td><td>  10</td><td>  40</td><td>-30</td><td>AA</td><td> 185</td><td>N335AA</td><td>JFK</td><td>LAX</td><td>298</td><td>2475</td><td>21</td><td>40</td><td>2013-09-30 21:00:00</td></tr>\n",
              "\t<tr><td>2013</td><td>9</td><td>30</td><td>2149</td><td>2156</td><td> -7</td><td>2245</td><td>2308</td><td>-23</td><td>UA</td><td> 523</td><td>N813UA</td><td>EWR</td><td>BOS</td><td> 37</td><td> 200</td><td>21</td><td>56</td><td>2013-09-30 21:00:00</td></tr>\n",
              "\t<tr><td>2013</td><td>9</td><td>30</td><td>2235</td><td>2001</td><td>154</td><td>  59</td><td>2249</td><td>130</td><td>B6</td><td>1083</td><td>N804JB</td><td>JFK</td><td>MCO</td><td>123</td><td> 944</td><td>20</td><td> 1</td><td>2013-09-30 20:00:00</td></tr>\n",
              "\t<tr><td>2013</td><td>9</td><td>30</td><td>2307</td><td>2255</td><td> 12</td><td>2359</td><td>2358</td><td>  1</td><td>B6</td><td> 718</td><td>N565JB</td><td>JFK</td><td>BOS</td><td> 33</td><td> 187</td><td>22</td><td>55</td><td>2013-09-30 22:00:00</td></tr>\n",
              "</tbody>\n",
              "</table>\n"
            ],
            "text/markdown": "\nA tibble: 94326 × 19\n\n| year &lt;int&gt; | month &lt;int&gt; | day &lt;int&gt; | dep_time &lt;int&gt; | sched_dep_time &lt;int&gt; | dep_delay &lt;dbl&gt; | arr_time &lt;int&gt; | sched_arr_time &lt;int&gt; | arr_delay &lt;dbl&gt; | carrier &lt;chr&gt; | flight &lt;int&gt; | tailnum &lt;chr&gt; | origin &lt;chr&gt; | dest &lt;chr&gt; | air_time &lt;dbl&gt; | distance &lt;dbl&gt; | hour &lt;dbl&gt; | minute &lt;dbl&gt; | time_hour &lt;dttm&gt; |\n|---|---|---|---|---|---|---|---|---|---|---|---|---|---|---|---|---|---|---|\n| 2013 | 1 | 1 | 554 | 600 | -6 |  812 |  837 | -25 | DL |  461 | N668DN | LGA | ATL | 116 |  762 | 6 |  0 | 2013-01-01 06:00:00 |\n| 2013 | 1 | 1 | 554 | 558 | -4 |  740 |  728 |  12 | UA | 1696 | N39463 | EWR | ORD | 150 |  719 | 5 | 58 | 2013-01-01 05:00:00 |\n| 2013 | 1 | 1 | 557 | 600 | -3 |  838 |  846 |  -8 | B6 |   79 | N593JB | JFK | MCO | 140 |  944 | 6 |  0 | 2013-01-01 06:00:00 |\n| 2013 | 1 | 1 | 558 | 600 | -2 |  753 |  745 |   8 | AA |  301 | N3ALAA | LGA | ORD | 138 |  733 | 6 |  0 | 2013-01-01 06:00:00 |\n| 2013 | 1 | 1 | 558 | 600 | -2 |  924 |  917 |   7 | UA |  194 | N29129 | JFK | LAX | 345 | 2475 | 6 |  0 | 2013-01-01 06:00:00 |\n| 2013 | 1 | 1 | 559 | 559 |  0 |  702 |  706 |  -4 | B6 | 1806 | N708JB | JFK | BOS |  44 |  187 | 5 | 59 | 2013-01-01 05:00:00 |\n| 2013 | 1 | 1 | 600 | 600 |  0 |  837 |  825 |  12 | MQ | 4650 | N542MQ | LGA | ATL | 134 |  762 | 6 |  0 | 2013-01-01 06:00:00 |\n| 2013 | 1 | 1 | 606 | 610 | -4 |  837 |  845 |  -8 | DL | 1743 | N3739P | JFK | ATL | 128 |  760 | 6 | 10 | 2013-01-01 06:00:00 |\n| 2013 | 1 | 1 | 608 | 600 |  8 |  807 |  735 |  32 | MQ | 3768 | N9EAMQ | EWR | ORD | 139 |  719 | 6 |  0 | 2013-01-01 06:00:00 |\n| 2013 | 1 | 1 | 615 | 615 |  0 |  833 |  842 |  -9 | DL |  575 | N326NB | EWR | ATL | 120 |  746 | 6 | 15 | 2013-01-01 06:00:00 |\n| 2013 | 1 | 1 | 628 | 630 | -2 | 1016 |  947 |  29 | UA | 1665 | N33289 | EWR | LAX | 366 | 2454 | 6 | 30 | 2013-01-01 06:00:00 |\n| 2013 | 1 | 1 | 629 | 630 | -1 |  824 |  810 |  14 | AA |  303 | N3CYAA | LGA | ORD | 140 |  733 | 6 | 30 | 2013-01-01 06:00:00 |\n| 2013 | 1 | 1 | 629 | 630 | -1 |  824 |  833 |  -9 | US | 1019 | N426US | EWR | CLT |  91 |  529 | 6 | 30 | 2013-01-01 06:00:00 |\n| 2013 | 1 | 1 | 637 | 645 | -8 |  930 |  935 |  -5 | B6 |  389 | N709JB | LGA | MCO | 144 |  950 | 6 | 45 | 2013-01-01 06:00:00 |\n| 2013 | 1 | 1 | 639 | 640 | -1 |  739 |  749 | -10 | B6 | 1002 | N805JB | JFK | BOS |  41 |  187 | 6 | 40 | 2013-01-01 06:00:00 |\n| 2013 | 1 | 1 | 643 | 645 | -2 |  837 |  848 | -11 | US |  926 | N178US | EWR | CLT |  91 |  529 | 6 | 45 | 2013-01-01 06:00:00 |\n| 2013 | 1 | 1 | 656 | 700 | -4 |  854 |  850 |   4 | AA |  305 | N4WNAA | LGA | ORD | 143 |  733 | 7 |  0 | 2013-01-01 07:00:00 |\n| 2013 | 1 | 1 | 656 | 659 | -3 |  949 |  959 | -10 | AA | 1815 | N5FMAA | JFK | MCO | 142 |  944 | 6 | 59 | 2013-01-01 06:00:00 |\n| 2013 | 1 | 1 | 658 | 700 | -2 |  944 |  939 |   5 | DL | 1547 | N6703D | LGA | ATL | 126 |  762 | 7 |  0 | 2013-01-01 07:00:00 |\n| 2013 | 1 | 1 | 658 | 700 | -2 | 1027 | 1025 |   2 | VX |  399 | N627VA | JFK | LAX | 361 | 2475 | 7 |  0 | 2013-01-01 07:00:00 |\n| 2013 | 1 | 1 | 702 | 700 |  2 | 1058 | 1014 |  44 | B6 |  671 | N779JB | JFK | LAX | 381 | 2475 | 7 |  0 | 2013-01-01 07:00:00 |\n| 2013 | 1 | 1 | 709 | 700 |  9 |  852 |  832 |  20 | UA | 1092 | N26226 | LGA | ORD | 135 |  733 | 7 |  0 | 2013-01-01 07:00:00 |\n| 2013 | 1 | 1 | 715 | 713 |  2 |  911 |  850 |  21 | UA |  544 | N841UA | EWR | ORD | 156 |  719 | 7 | 13 | 2013-01-01 07:00:00 |\n| 2013 | 1 | 1 | 719 | 721 | -2 | 1017 | 1012 |   5 | B6 |  987 | N562JB | JFK | MCO | 147 |  944 | 7 | 21 | 2013-01-01 07:00:00 |\n| 2013 | 1 | 1 | 732 | 645 | 47 | 1011 |  941 |  30 | UA | 1111 | N37456 | EWR | MCO | 145 |  937 | 6 | 45 | 2013-01-01 06:00:00 |\n| 2013 | 1 | 1 | 739 | 745 | -6 |  918 |  930 | -12 | AA |  309 | N4WPAA | LGA | ORD | 137 |  733 | 7 | 45 | 2013-01-01 07:00:00 |\n| 2013 | 1 | 1 | 743 | 730 | 13 | 1107 | 1100 |   7 | AA |   33 | N338AA | JFK | LAX | 358 | 2475 | 7 | 30 | 2013-01-01 07:00:00 |\n| 2013 | 1 | 1 | 749 | 710 | 39 |  939 |  850 |  49 | MQ | 3737 | N508MQ | EWR | ORD | 148 |  719 | 7 | 10 | 2013-01-01 07:00:00 |\n| 2013 | 1 | 1 | 752 | 755 | -3 | 1041 | 1059 | -18 | DL | 2263 | N325US | LGA | MCO | 140 |  950 | 7 | 55 | 2013-01-01 07:00:00 |\n| 2013 | 1 | 1 | 752 | 759 | -7 |  955 |  959 |  -4 | US | 1733 | N543UW | LGA | CLT |  96 |  544 | 7 | 59 | 2013-01-01 07:00:00 |\n| ⋮ | ⋮ | ⋮ | ⋮ | ⋮ | ⋮ | ⋮ | ⋮ | ⋮ | ⋮ | ⋮ | ⋮ | ⋮ | ⋮ | ⋮ | ⋮ | ⋮ | ⋮ | ⋮ |\n| 2013 | 9 | 30 | 1944 | 1950 |  -6 | 2208 | 2215 |  -7 | MQ | 3662 | N507MQ | LGA | ATL | 100 |  762 | 19 | 50 | 2013-09-30 19:00:00 |\n| 2013 | 9 | 30 | 1953 | 2000 |  -7 | 2119 | 2132 | -13 | UA |  695 | N853UA | LGA | ORD | 107 |  733 | 20 |  0 | 2013-09-30 20:00:00 |\n| 2013 | 9 | 30 | 1955 | 2000 |  -5 | 2219 | 2230 | -11 | DL | 1147 | N992DL | LGA | ATL |  99 |  762 | 20 |  0 | 2013-09-30 20:00:00 |\n| 2013 | 9 | 30 | 1955 | 2000 |  -5 | 2112 | 2114 |  -2 | US | 2162 | N957UW | LGA | BOS |  35 |  184 | 20 |  0 | 2013-09-30 20:00:00 |\n| 2013 | 9 | 30 | 1958 | 2005 |  -7 | 2119 | 2130 | -11 | MQ | 3604 | N511MQ | EWR | ORD | 102 |  719 | 20 |  5 | 2013-09-30 20:00:00 |\n| 2013 | 9 | 30 | 2000 | 2000 |   0 | 2207 | 2211 |  -4 | YV | 2677 | N924FJ | LGA | CLT |  75 |  544 | 20 |  0 | 2013-09-30 20:00:00 |\n| 2013 | 9 | 30 | 2003 | 2004 |  -1 | 2235 | 2314 | -39 | UA | 1224 | N38473 | EWR | LAX | 295 | 2454 | 20 |  4 | 2013-09-30 20:00:00 |\n| 2013 | 9 | 30 | 2009 | 2000 |   9 | 2238 | 2300 | -22 | VX |  415 | N844VA | JFK | LAX | 303 | 2475 | 20 |  0 | 2013-09-30 20:00:00 |\n| 2013 | 9 | 30 | 2009 | 2009 |   0 | 2126 | 2129 |  -3 | UA | 1049 | N77258 | EWR | BOS |  38 |  200 | 20 |  9 | 2013-09-30 20:00:00 |\n| 2013 | 9 | 30 | 2010 | 2015 |  -5 | 2100 | 2125 | -25 | B6 |  418 | N249JB | JFK | BOS |  35 |  187 | 20 | 15 | 2013-09-30 20:00:00 |\n| 2013 | 9 | 30 | 2017 | 2022 |  -5 | 2132 | 2155 | -23 | B6 |  105 | N298JB | JFK | ORD | 112 |  740 | 20 | 22 | 2013-09-30 20:00:00 |\n| 2013 | 9 | 30 | 2017 | 2017 |   0 | 2253 | 2320 | -27 | UA |  771 | N510UA | JFK | LAX | 304 | 2475 | 20 | 17 | 2013-09-30 20:00:00 |\n| 2013 | 9 | 30 | 2022 | 2025 |  -3 | 2127 | 2140 | -13 | AA | 2314 | N3CUAA | JFK | BOS |  37 |  187 | 20 | 25 | 2013-09-30 20:00:00 |\n| 2013 | 9 | 30 | 2028 | 1910 |  78 | 2255 | 2215 |  40 | AA |   21 | N338AA | JFK | LAX | 294 | 2475 | 19 | 10 | 2013-09-30 19:00:00 |\n| 2013 | 9 | 30 | 2030 | 2045 | -15 | 2141 | 2153 | -12 | B6 | 2680 | N266JB | EWR | BOS |  38 |  200 | 20 | 45 | 2013-09-30 20:00:00 |\n| 2013 | 9 | 30 | 2032 | 2045 | -13 | 2147 | 2225 | -38 | AA |  371 | N434AA | LGA | ORD | 105 |  733 | 20 | 45 | 2013-09-30 20:00:00 |\n| 2013 | 9 | 30 | 2041 | 2045 |  -4 | 2147 | 2208 | -21 | DL |  985 | N359NB | JFK | BOS |  37 |  187 | 20 | 45 | 2013-09-30 20:00:00 |\n| 2013 | 9 | 30 | 2050 | 2100 | -10 | 2312 | 2344 | -32 | B6 |  499 | N606JB | LGA | MCO | 122 |  950 | 21 |  0 | 2013-09-30 21:00:00 |\n| 2013 | 9 | 30 | 2051 | 2054 |  -3 | 2348 | 2359 | -11 | B6 |  523 | N605JB | JFK | LAX | 304 | 2475 | 20 | 54 | 2013-09-30 20:00:00 |\n| 2013 | 9 | 30 | 2052 | 2059 |  -7 | 2315 | 2358 | -43 | UA | 1416 | N68453 | EWR | MCO | 123 |  937 | 20 | 59 | 2013-09-30 20:00:00 |\n| 2013 | 9 | 30 | 2053 | 1815 | 158 | 2310 | 2054 | 136 | EV | 5292 | N600QX | EWR | ATL |  91 |  746 | 18 | 15 | 2013-09-30 18:00:00 |\n| 2013 | 9 | 30 | 2054 | 2100 |  -6 | 2240 | 2245 |  -5 | MQ | 3384 | N528MQ | LGA | CLT |  70 |  544 | 21 |  0 | 2013-09-30 21:00:00 |\n| 2013 | 9 | 30 | 2055 | 2059 |  -4 | 2158 | 2211 | -13 | UA | 1066 | N16701 | EWR | BOS |  40 |  200 | 20 | 59 | 2013-09-30 20:00:00 |\n| 2013 | 9 | 30 | 2057 | 2100 |  -3 | 2149 | 2211 | -22 | US | 2164 | N953UW | LGA | BOS |  35 |  184 | 21 |  0 | 2013-09-30 21:00:00 |\n| 2013 | 9 | 30 | 2121 | 2100 |  21 | 2349 |   14 | -25 | DL | 2363 | N193DN | JFK | LAX | 296 | 2475 | 21 |  0 | 2013-09-30 21:00:00 |\n| 2013 | 9 | 30 | 2127 | 2129 |  -2 | 2314 | 2323 |  -9 | EV | 3833 | N16546 | EWR | CLT |  72 |  529 | 21 | 29 | 2013-09-30 21:00:00 |\n| 2013 | 9 | 30 | 2140 | 2140 |   0 |   10 |   40 | -30 | AA |  185 | N335AA | JFK | LAX | 298 | 2475 | 21 | 40 | 2013-09-30 21:00:00 |\n| 2013 | 9 | 30 | 2149 | 2156 |  -7 | 2245 | 2308 | -23 | UA |  523 | N813UA | EWR | BOS |  37 |  200 | 21 | 56 | 2013-09-30 21:00:00 |\n| 2013 | 9 | 30 | 2235 | 2001 | 154 |   59 | 2249 | 130 | B6 | 1083 | N804JB | JFK | MCO | 123 |  944 | 20 |  1 | 2013-09-30 20:00:00 |\n| 2013 | 9 | 30 | 2307 | 2255 |  12 | 2359 | 2358 |   1 | B6 |  718 | N565JB | JFK | BOS |  33 |  187 | 22 | 55 | 2013-09-30 22:00:00 |\n\n",
            "text/latex": "A tibble: 94326 × 19\n\\begin{tabular}{lllllllllllllllllll}\n year & month & day & dep\\_time & sched\\_dep\\_time & dep\\_delay & arr\\_time & sched\\_arr\\_time & arr\\_delay & carrier & flight & tailnum & origin & dest & air\\_time & distance & hour & minute & time\\_hour\\\\\n <int> & <int> & <int> & <int> & <int> & <dbl> & <int> & <int> & <dbl> & <chr> & <int> & <chr> & <chr> & <chr> & <dbl> & <dbl> & <dbl> & <dbl> & <dttm>\\\\\n\\hline\n\t 2013 & 1 & 1 & 554 & 600 & -6 &  812 &  837 & -25 & DL &  461 & N668DN & LGA & ATL & 116 &  762 & 6 &  0 & 2013-01-01 06:00:00\\\\\n\t 2013 & 1 & 1 & 554 & 558 & -4 &  740 &  728 &  12 & UA & 1696 & N39463 & EWR & ORD & 150 &  719 & 5 & 58 & 2013-01-01 05:00:00\\\\\n\t 2013 & 1 & 1 & 557 & 600 & -3 &  838 &  846 &  -8 & B6 &   79 & N593JB & JFK & MCO & 140 &  944 & 6 &  0 & 2013-01-01 06:00:00\\\\\n\t 2013 & 1 & 1 & 558 & 600 & -2 &  753 &  745 &   8 & AA &  301 & N3ALAA & LGA & ORD & 138 &  733 & 6 &  0 & 2013-01-01 06:00:00\\\\\n\t 2013 & 1 & 1 & 558 & 600 & -2 &  924 &  917 &   7 & UA &  194 & N29129 & JFK & LAX & 345 & 2475 & 6 &  0 & 2013-01-01 06:00:00\\\\\n\t 2013 & 1 & 1 & 559 & 559 &  0 &  702 &  706 &  -4 & B6 & 1806 & N708JB & JFK & BOS &  44 &  187 & 5 & 59 & 2013-01-01 05:00:00\\\\\n\t 2013 & 1 & 1 & 600 & 600 &  0 &  837 &  825 &  12 & MQ & 4650 & N542MQ & LGA & ATL & 134 &  762 & 6 &  0 & 2013-01-01 06:00:00\\\\\n\t 2013 & 1 & 1 & 606 & 610 & -4 &  837 &  845 &  -8 & DL & 1743 & N3739P & JFK & ATL & 128 &  760 & 6 & 10 & 2013-01-01 06:00:00\\\\\n\t 2013 & 1 & 1 & 608 & 600 &  8 &  807 &  735 &  32 & MQ & 3768 & N9EAMQ & EWR & ORD & 139 &  719 & 6 &  0 & 2013-01-01 06:00:00\\\\\n\t 2013 & 1 & 1 & 615 & 615 &  0 &  833 &  842 &  -9 & DL &  575 & N326NB & EWR & ATL & 120 &  746 & 6 & 15 & 2013-01-01 06:00:00\\\\\n\t 2013 & 1 & 1 & 628 & 630 & -2 & 1016 &  947 &  29 & UA & 1665 & N33289 & EWR & LAX & 366 & 2454 & 6 & 30 & 2013-01-01 06:00:00\\\\\n\t 2013 & 1 & 1 & 629 & 630 & -1 &  824 &  810 &  14 & AA &  303 & N3CYAA & LGA & ORD & 140 &  733 & 6 & 30 & 2013-01-01 06:00:00\\\\\n\t 2013 & 1 & 1 & 629 & 630 & -1 &  824 &  833 &  -9 & US & 1019 & N426US & EWR & CLT &  91 &  529 & 6 & 30 & 2013-01-01 06:00:00\\\\\n\t 2013 & 1 & 1 & 637 & 645 & -8 &  930 &  935 &  -5 & B6 &  389 & N709JB & LGA & MCO & 144 &  950 & 6 & 45 & 2013-01-01 06:00:00\\\\\n\t 2013 & 1 & 1 & 639 & 640 & -1 &  739 &  749 & -10 & B6 & 1002 & N805JB & JFK & BOS &  41 &  187 & 6 & 40 & 2013-01-01 06:00:00\\\\\n\t 2013 & 1 & 1 & 643 & 645 & -2 &  837 &  848 & -11 & US &  926 & N178US & EWR & CLT &  91 &  529 & 6 & 45 & 2013-01-01 06:00:00\\\\\n\t 2013 & 1 & 1 & 656 & 700 & -4 &  854 &  850 &   4 & AA &  305 & N4WNAA & LGA & ORD & 143 &  733 & 7 &  0 & 2013-01-01 07:00:00\\\\\n\t 2013 & 1 & 1 & 656 & 659 & -3 &  949 &  959 & -10 & AA & 1815 & N5FMAA & JFK & MCO & 142 &  944 & 6 & 59 & 2013-01-01 06:00:00\\\\\n\t 2013 & 1 & 1 & 658 & 700 & -2 &  944 &  939 &   5 & DL & 1547 & N6703D & LGA & ATL & 126 &  762 & 7 &  0 & 2013-01-01 07:00:00\\\\\n\t 2013 & 1 & 1 & 658 & 700 & -2 & 1027 & 1025 &   2 & VX &  399 & N627VA & JFK & LAX & 361 & 2475 & 7 &  0 & 2013-01-01 07:00:00\\\\\n\t 2013 & 1 & 1 & 702 & 700 &  2 & 1058 & 1014 &  44 & B6 &  671 & N779JB & JFK & LAX & 381 & 2475 & 7 &  0 & 2013-01-01 07:00:00\\\\\n\t 2013 & 1 & 1 & 709 & 700 &  9 &  852 &  832 &  20 & UA & 1092 & N26226 & LGA & ORD & 135 &  733 & 7 &  0 & 2013-01-01 07:00:00\\\\\n\t 2013 & 1 & 1 & 715 & 713 &  2 &  911 &  850 &  21 & UA &  544 & N841UA & EWR & ORD & 156 &  719 & 7 & 13 & 2013-01-01 07:00:00\\\\\n\t 2013 & 1 & 1 & 719 & 721 & -2 & 1017 & 1012 &   5 & B6 &  987 & N562JB & JFK & MCO & 147 &  944 & 7 & 21 & 2013-01-01 07:00:00\\\\\n\t 2013 & 1 & 1 & 732 & 645 & 47 & 1011 &  941 &  30 & UA & 1111 & N37456 & EWR & MCO & 145 &  937 & 6 & 45 & 2013-01-01 06:00:00\\\\\n\t 2013 & 1 & 1 & 739 & 745 & -6 &  918 &  930 & -12 & AA &  309 & N4WPAA & LGA & ORD & 137 &  733 & 7 & 45 & 2013-01-01 07:00:00\\\\\n\t 2013 & 1 & 1 & 743 & 730 & 13 & 1107 & 1100 &   7 & AA &   33 & N338AA & JFK & LAX & 358 & 2475 & 7 & 30 & 2013-01-01 07:00:00\\\\\n\t 2013 & 1 & 1 & 749 & 710 & 39 &  939 &  850 &  49 & MQ & 3737 & N508MQ & EWR & ORD & 148 &  719 & 7 & 10 & 2013-01-01 07:00:00\\\\\n\t 2013 & 1 & 1 & 752 & 755 & -3 & 1041 & 1059 & -18 & DL & 2263 & N325US & LGA & MCO & 140 &  950 & 7 & 55 & 2013-01-01 07:00:00\\\\\n\t 2013 & 1 & 1 & 752 & 759 & -7 &  955 &  959 &  -4 & US & 1733 & N543UW & LGA & CLT &  96 &  544 & 7 & 59 & 2013-01-01 07:00:00\\\\\n\t ⋮ & ⋮ & ⋮ & ⋮ & ⋮ & ⋮ & ⋮ & ⋮ & ⋮ & ⋮ & ⋮ & ⋮ & ⋮ & ⋮ & ⋮ & ⋮ & ⋮ & ⋮ & ⋮\\\\\n\t 2013 & 9 & 30 & 1944 & 1950 &  -6 & 2208 & 2215 &  -7 & MQ & 3662 & N507MQ & LGA & ATL & 100 &  762 & 19 & 50 & 2013-09-30 19:00:00\\\\\n\t 2013 & 9 & 30 & 1953 & 2000 &  -7 & 2119 & 2132 & -13 & UA &  695 & N853UA & LGA & ORD & 107 &  733 & 20 &  0 & 2013-09-30 20:00:00\\\\\n\t 2013 & 9 & 30 & 1955 & 2000 &  -5 & 2219 & 2230 & -11 & DL & 1147 & N992DL & LGA & ATL &  99 &  762 & 20 &  0 & 2013-09-30 20:00:00\\\\\n\t 2013 & 9 & 30 & 1955 & 2000 &  -5 & 2112 & 2114 &  -2 & US & 2162 & N957UW & LGA & BOS &  35 &  184 & 20 &  0 & 2013-09-30 20:00:00\\\\\n\t 2013 & 9 & 30 & 1958 & 2005 &  -7 & 2119 & 2130 & -11 & MQ & 3604 & N511MQ & EWR & ORD & 102 &  719 & 20 &  5 & 2013-09-30 20:00:00\\\\\n\t 2013 & 9 & 30 & 2000 & 2000 &   0 & 2207 & 2211 &  -4 & YV & 2677 & N924FJ & LGA & CLT &  75 &  544 & 20 &  0 & 2013-09-30 20:00:00\\\\\n\t 2013 & 9 & 30 & 2003 & 2004 &  -1 & 2235 & 2314 & -39 & UA & 1224 & N38473 & EWR & LAX & 295 & 2454 & 20 &  4 & 2013-09-30 20:00:00\\\\\n\t 2013 & 9 & 30 & 2009 & 2000 &   9 & 2238 & 2300 & -22 & VX &  415 & N844VA & JFK & LAX & 303 & 2475 & 20 &  0 & 2013-09-30 20:00:00\\\\\n\t 2013 & 9 & 30 & 2009 & 2009 &   0 & 2126 & 2129 &  -3 & UA & 1049 & N77258 & EWR & BOS &  38 &  200 & 20 &  9 & 2013-09-30 20:00:00\\\\\n\t 2013 & 9 & 30 & 2010 & 2015 &  -5 & 2100 & 2125 & -25 & B6 &  418 & N249JB & JFK & BOS &  35 &  187 & 20 & 15 & 2013-09-30 20:00:00\\\\\n\t 2013 & 9 & 30 & 2017 & 2022 &  -5 & 2132 & 2155 & -23 & B6 &  105 & N298JB & JFK & ORD & 112 &  740 & 20 & 22 & 2013-09-30 20:00:00\\\\\n\t 2013 & 9 & 30 & 2017 & 2017 &   0 & 2253 & 2320 & -27 & UA &  771 & N510UA & JFK & LAX & 304 & 2475 & 20 & 17 & 2013-09-30 20:00:00\\\\\n\t 2013 & 9 & 30 & 2022 & 2025 &  -3 & 2127 & 2140 & -13 & AA & 2314 & N3CUAA & JFK & BOS &  37 &  187 & 20 & 25 & 2013-09-30 20:00:00\\\\\n\t 2013 & 9 & 30 & 2028 & 1910 &  78 & 2255 & 2215 &  40 & AA &   21 & N338AA & JFK & LAX & 294 & 2475 & 19 & 10 & 2013-09-30 19:00:00\\\\\n\t 2013 & 9 & 30 & 2030 & 2045 & -15 & 2141 & 2153 & -12 & B6 & 2680 & N266JB & EWR & BOS &  38 &  200 & 20 & 45 & 2013-09-30 20:00:00\\\\\n\t 2013 & 9 & 30 & 2032 & 2045 & -13 & 2147 & 2225 & -38 & AA &  371 & N434AA & LGA & ORD & 105 &  733 & 20 & 45 & 2013-09-30 20:00:00\\\\\n\t 2013 & 9 & 30 & 2041 & 2045 &  -4 & 2147 & 2208 & -21 & DL &  985 & N359NB & JFK & BOS &  37 &  187 & 20 & 45 & 2013-09-30 20:00:00\\\\\n\t 2013 & 9 & 30 & 2050 & 2100 & -10 & 2312 & 2344 & -32 & B6 &  499 & N606JB & LGA & MCO & 122 &  950 & 21 &  0 & 2013-09-30 21:00:00\\\\\n\t 2013 & 9 & 30 & 2051 & 2054 &  -3 & 2348 & 2359 & -11 & B6 &  523 & N605JB & JFK & LAX & 304 & 2475 & 20 & 54 & 2013-09-30 20:00:00\\\\\n\t 2013 & 9 & 30 & 2052 & 2059 &  -7 & 2315 & 2358 & -43 & UA & 1416 & N68453 & EWR & MCO & 123 &  937 & 20 & 59 & 2013-09-30 20:00:00\\\\\n\t 2013 & 9 & 30 & 2053 & 1815 & 158 & 2310 & 2054 & 136 & EV & 5292 & N600QX & EWR & ATL &  91 &  746 & 18 & 15 & 2013-09-30 18:00:00\\\\\n\t 2013 & 9 & 30 & 2054 & 2100 &  -6 & 2240 & 2245 &  -5 & MQ & 3384 & N528MQ & LGA & CLT &  70 &  544 & 21 &  0 & 2013-09-30 21:00:00\\\\\n\t 2013 & 9 & 30 & 2055 & 2059 &  -4 & 2158 & 2211 & -13 & UA & 1066 & N16701 & EWR & BOS &  40 &  200 & 20 & 59 & 2013-09-30 20:00:00\\\\\n\t 2013 & 9 & 30 & 2057 & 2100 &  -3 & 2149 & 2211 & -22 & US & 2164 & N953UW & LGA & BOS &  35 &  184 & 21 &  0 & 2013-09-30 21:00:00\\\\\n\t 2013 & 9 & 30 & 2121 & 2100 &  21 & 2349 &   14 & -25 & DL & 2363 & N193DN & JFK & LAX & 296 & 2475 & 21 &  0 & 2013-09-30 21:00:00\\\\\n\t 2013 & 9 & 30 & 2127 & 2129 &  -2 & 2314 & 2323 &  -9 & EV & 3833 & N16546 & EWR & CLT &  72 &  529 & 21 & 29 & 2013-09-30 21:00:00\\\\\n\t 2013 & 9 & 30 & 2140 & 2140 &   0 &   10 &   40 & -30 & AA &  185 & N335AA & JFK & LAX & 298 & 2475 & 21 & 40 & 2013-09-30 21:00:00\\\\\n\t 2013 & 9 & 30 & 2149 & 2156 &  -7 & 2245 & 2308 & -23 & UA &  523 & N813UA & EWR & BOS &  37 &  200 & 21 & 56 & 2013-09-30 21:00:00\\\\\n\t 2013 & 9 & 30 & 2235 & 2001 & 154 &   59 & 2249 & 130 & B6 & 1083 & N804JB & JFK & MCO & 123 &  944 & 20 &  1 & 2013-09-30 20:00:00\\\\\n\t 2013 & 9 & 30 & 2307 & 2255 &  12 & 2359 & 2358 &   1 & B6 &  718 & N565JB & JFK & BOS &  33 &  187 & 22 & 55 & 2013-09-30 22:00:00\\\\\n\\end{tabular}\n",
            "text/plain": [
              "      year month day dep_time sched_dep_time dep_delay arr_time sched_arr_time\n",
              "1     2013 1     1   554      600            -6         812      837          \n",
              "2     2013 1     1   554      558            -4         740      728          \n",
              "3     2013 1     1   557      600            -3         838      846          \n",
              "4     2013 1     1   558      600            -2         753      745          \n",
              "5     2013 1     1   558      600            -2         924      917          \n",
              "6     2013 1     1   559      559             0         702      706          \n",
              "7     2013 1     1   600      600             0         837      825          \n",
              "8     2013 1     1   606      610            -4         837      845          \n",
              "9     2013 1     1   608      600             8         807      735          \n",
              "10    2013 1     1   615      615             0         833      842          \n",
              "11    2013 1     1   628      630            -2        1016      947          \n",
              "12    2013 1     1   629      630            -1         824      810          \n",
              "13    2013 1     1   629      630            -1         824      833          \n",
              "14    2013 1     1   637      645            -8         930      935          \n",
              "15    2013 1     1   639      640            -1         739      749          \n",
              "16    2013 1     1   643      645            -2         837      848          \n",
              "17    2013 1     1   656      700            -4         854      850          \n",
              "18    2013 1     1   656      659            -3         949      959          \n",
              "19    2013 1     1   658      700            -2         944      939          \n",
              "20    2013 1     1   658      700            -2        1027     1025          \n",
              "21    2013 1     1   702      700             2        1058     1014          \n",
              "22    2013 1     1   709      700             9         852      832          \n",
              "23    2013 1     1   715      713             2         911      850          \n",
              "24    2013 1     1   719      721            -2        1017     1012          \n",
              "25    2013 1     1   732      645            47        1011      941          \n",
              "26    2013 1     1   739      745            -6         918      930          \n",
              "27    2013 1     1   743      730            13        1107     1100          \n",
              "28    2013 1     1   749      710            39         939      850          \n",
              "29    2013 1     1   752      755            -3        1041     1059          \n",
              "30    2013 1     1   752      759            -7         955      959          \n",
              "⋮     ⋮    ⋮     ⋮   ⋮        ⋮              ⋮         ⋮        ⋮             \n",
              "94297 2013 9     30  1944     1950            -6       2208     2215          \n",
              "94298 2013 9     30  1953     2000            -7       2119     2132          \n",
              "94299 2013 9     30  1955     2000            -5       2219     2230          \n",
              "94300 2013 9     30  1955     2000            -5       2112     2114          \n",
              "94301 2013 9     30  1958     2005            -7       2119     2130          \n",
              "94302 2013 9     30  2000     2000             0       2207     2211          \n",
              "94303 2013 9     30  2003     2004            -1       2235     2314          \n",
              "94304 2013 9     30  2009     2000             9       2238     2300          \n",
              "94305 2013 9     30  2009     2009             0       2126     2129          \n",
              "94306 2013 9     30  2010     2015            -5       2100     2125          \n",
              "94307 2013 9     30  2017     2022            -5       2132     2155          \n",
              "94308 2013 9     30  2017     2017             0       2253     2320          \n",
              "94309 2013 9     30  2022     2025            -3       2127     2140          \n",
              "94310 2013 9     30  2028     1910            78       2255     2215          \n",
              "94311 2013 9     30  2030     2045           -15       2141     2153          \n",
              "94312 2013 9     30  2032     2045           -13       2147     2225          \n",
              "94313 2013 9     30  2041     2045            -4       2147     2208          \n",
              "94314 2013 9     30  2050     2100           -10       2312     2344          \n",
              "94315 2013 9     30  2051     2054            -3       2348     2359          \n",
              "94316 2013 9     30  2052     2059            -7       2315     2358          \n",
              "94317 2013 9     30  2053     1815           158       2310     2054          \n",
              "94318 2013 9     30  2054     2100            -6       2240     2245          \n",
              "94319 2013 9     30  2055     2059            -4       2158     2211          \n",
              "94320 2013 9     30  2057     2100            -3       2149     2211          \n",
              "94321 2013 9     30  2121     2100            21       2349       14          \n",
              "94322 2013 9     30  2127     2129            -2       2314     2323          \n",
              "94323 2013 9     30  2140     2140             0         10       40          \n",
              "94324 2013 9     30  2149     2156            -7       2245     2308          \n",
              "94325 2013 9     30  2235     2001           154         59     2249          \n",
              "94326 2013 9     30  2307     2255            12       2359     2358          \n",
              "      arr_delay carrier flight tailnum origin dest air_time distance hour\n",
              "1     -25       DL       461   N668DN  LGA    ATL  116       762     6   \n",
              "2      12       UA      1696   N39463  EWR    ORD  150       719     5   \n",
              "3      -8       B6        79   N593JB  JFK    MCO  140       944     6   \n",
              "4       8       AA       301   N3ALAA  LGA    ORD  138       733     6   \n",
              "5       7       UA       194   N29129  JFK    LAX  345      2475     6   \n",
              "6      -4       B6      1806   N708JB  JFK    BOS   44       187     5   \n",
              "7      12       MQ      4650   N542MQ  LGA    ATL  134       762     6   \n",
              "8      -8       DL      1743   N3739P  JFK    ATL  128       760     6   \n",
              "9      32       MQ      3768   N9EAMQ  EWR    ORD  139       719     6   \n",
              "10     -9       DL       575   N326NB  EWR    ATL  120       746     6   \n",
              "11     29       UA      1665   N33289  EWR    LAX  366      2454     6   \n",
              "12     14       AA       303   N3CYAA  LGA    ORD  140       733     6   \n",
              "13     -9       US      1019   N426US  EWR    CLT   91       529     6   \n",
              "14     -5       B6       389   N709JB  LGA    MCO  144       950     6   \n",
              "15    -10       B6      1002   N805JB  JFK    BOS   41       187     6   \n",
              "16    -11       US       926   N178US  EWR    CLT   91       529     6   \n",
              "17      4       AA       305   N4WNAA  LGA    ORD  143       733     7   \n",
              "18    -10       AA      1815   N5FMAA  JFK    MCO  142       944     6   \n",
              "19      5       DL      1547   N6703D  LGA    ATL  126       762     7   \n",
              "20      2       VX       399   N627VA  JFK    LAX  361      2475     7   \n",
              "21     44       B6       671   N779JB  JFK    LAX  381      2475     7   \n",
              "22     20       UA      1092   N26226  LGA    ORD  135       733     7   \n",
              "23     21       UA       544   N841UA  EWR    ORD  156       719     7   \n",
              "24      5       B6       987   N562JB  JFK    MCO  147       944     7   \n",
              "25     30       UA      1111   N37456  EWR    MCO  145       937     6   \n",
              "26    -12       AA       309   N4WPAA  LGA    ORD  137       733     7   \n",
              "27      7       AA        33   N338AA  JFK    LAX  358      2475     7   \n",
              "28     49       MQ      3737   N508MQ  EWR    ORD  148       719     7   \n",
              "29    -18       DL      2263   N325US  LGA    MCO  140       950     7   \n",
              "30     -4       US      1733   N543UW  LGA    CLT   96       544     7   \n",
              "⋮     ⋮         ⋮       ⋮      ⋮       ⋮      ⋮    ⋮        ⋮        ⋮   \n",
              "94297  -7       MQ      3662   N507MQ  LGA    ATL  100       762     19  \n",
              "94298 -13       UA       695   N853UA  LGA    ORD  107       733     20  \n",
              "94299 -11       DL      1147   N992DL  LGA    ATL   99       762     20  \n",
              "94300  -2       US      2162   N957UW  LGA    BOS   35       184     20  \n",
              "94301 -11       MQ      3604   N511MQ  EWR    ORD  102       719     20  \n",
              "94302  -4       YV      2677   N924FJ  LGA    CLT   75       544     20  \n",
              "94303 -39       UA      1224   N38473  EWR    LAX  295      2454     20  \n",
              "94304 -22       VX       415   N844VA  JFK    LAX  303      2475     20  \n",
              "94305  -3       UA      1049   N77258  EWR    BOS   38       200     20  \n",
              "94306 -25       B6       418   N249JB  JFK    BOS   35       187     20  \n",
              "94307 -23       B6       105   N298JB  JFK    ORD  112       740     20  \n",
              "94308 -27       UA       771   N510UA  JFK    LAX  304      2475     20  \n",
              "94309 -13       AA      2314   N3CUAA  JFK    BOS   37       187     20  \n",
              "94310  40       AA        21   N338AA  JFK    LAX  294      2475     19  \n",
              "94311 -12       B6      2680   N266JB  EWR    BOS   38       200     20  \n",
              "94312 -38       AA       371   N434AA  LGA    ORD  105       733     20  \n",
              "94313 -21       DL       985   N359NB  JFK    BOS   37       187     20  \n",
              "94314 -32       B6       499   N606JB  LGA    MCO  122       950     21  \n",
              "94315 -11       B6       523   N605JB  JFK    LAX  304      2475     20  \n",
              "94316 -43       UA      1416   N68453  EWR    MCO  123       937     20  \n",
              "94317 136       EV      5292   N600QX  EWR    ATL   91       746     18  \n",
              "94318  -5       MQ      3384   N528MQ  LGA    CLT   70       544     21  \n",
              "94319 -13       UA      1066   N16701  EWR    BOS   40       200     20  \n",
              "94320 -22       US      2164   N953UW  LGA    BOS   35       184     21  \n",
              "94321 -25       DL      2363   N193DN  JFK    LAX  296      2475     21  \n",
              "94322  -9       EV      3833   N16546  EWR    CLT   72       529     21  \n",
              "94323 -30       AA       185   N335AA  JFK    LAX  298      2475     21  \n",
              "94324 -23       UA       523   N813UA  EWR    BOS   37       200     21  \n",
              "94325 130       B6      1083   N804JB  JFK    MCO  123       944     20  \n",
              "94326   1       B6       718   N565JB  JFK    BOS   33       187     22  \n",
              "      minute time_hour          \n",
              "1      0     2013-01-01 06:00:00\n",
              "2     58     2013-01-01 05:00:00\n",
              "3      0     2013-01-01 06:00:00\n",
              "4      0     2013-01-01 06:00:00\n",
              "5      0     2013-01-01 06:00:00\n",
              "6     59     2013-01-01 05:00:00\n",
              "7      0     2013-01-01 06:00:00\n",
              "8     10     2013-01-01 06:00:00\n",
              "9      0     2013-01-01 06:00:00\n",
              "10    15     2013-01-01 06:00:00\n",
              "11    30     2013-01-01 06:00:00\n",
              "12    30     2013-01-01 06:00:00\n",
              "13    30     2013-01-01 06:00:00\n",
              "14    45     2013-01-01 06:00:00\n",
              "15    40     2013-01-01 06:00:00\n",
              "16    45     2013-01-01 06:00:00\n",
              "17     0     2013-01-01 07:00:00\n",
              "18    59     2013-01-01 06:00:00\n",
              "19     0     2013-01-01 07:00:00\n",
              "20     0     2013-01-01 07:00:00\n",
              "21     0     2013-01-01 07:00:00\n",
              "22     0     2013-01-01 07:00:00\n",
              "23    13     2013-01-01 07:00:00\n",
              "24    21     2013-01-01 07:00:00\n",
              "25    45     2013-01-01 06:00:00\n",
              "26    45     2013-01-01 07:00:00\n",
              "27    30     2013-01-01 07:00:00\n",
              "28    10     2013-01-01 07:00:00\n",
              "29    55     2013-01-01 07:00:00\n",
              "30    59     2013-01-01 07:00:00\n",
              "⋮     ⋮      ⋮                  \n",
              "94297 50     2013-09-30 19:00:00\n",
              "94298  0     2013-09-30 20:00:00\n",
              "94299  0     2013-09-30 20:00:00\n",
              "94300  0     2013-09-30 20:00:00\n",
              "94301  5     2013-09-30 20:00:00\n",
              "94302  0     2013-09-30 20:00:00\n",
              "94303  4     2013-09-30 20:00:00\n",
              "94304  0     2013-09-30 20:00:00\n",
              "94305  9     2013-09-30 20:00:00\n",
              "94306 15     2013-09-30 20:00:00\n",
              "94307 22     2013-09-30 20:00:00\n",
              "94308 17     2013-09-30 20:00:00\n",
              "94309 25     2013-09-30 20:00:00\n",
              "94310 10     2013-09-30 19:00:00\n",
              "94311 45     2013-09-30 20:00:00\n",
              "94312 45     2013-09-30 20:00:00\n",
              "94313 45     2013-09-30 20:00:00\n",
              "94314  0     2013-09-30 21:00:00\n",
              "94315 54     2013-09-30 20:00:00\n",
              "94316 59     2013-09-30 20:00:00\n",
              "94317 15     2013-09-30 18:00:00\n",
              "94318  0     2013-09-30 21:00:00\n",
              "94319 59     2013-09-30 20:00:00\n",
              "94320  0     2013-09-30 21:00:00\n",
              "94321  0     2013-09-30 21:00:00\n",
              "94322 29     2013-09-30 21:00:00\n",
              "94323 40     2013-09-30 21:00:00\n",
              "94324 56     2013-09-30 21:00:00\n",
              "94325  1     2013-09-30 20:00:00\n",
              "94326 55     2013-09-30 22:00:00"
            ]
          },
          "metadata": {}
        }
      ],
      "source": [
        "# Your solution here\n",
        "filter(flights, dest %in% dest_top6$dest) \n",
        "newgraph = filter(flights, dest %in% dest_top6$dest) \n",
        "    \n",
        "\n",
        "\n",
        "\n",
        "\n",
        "\n"
      ]
    },
    {
      "cell_type": "markdown",
      "metadata": {
        "deletable": false,
        "editable": false,
        "run_control": {
          "frozen": true
        },
        "id": "h2CWn2cugvmq"
      },
      "source": [
        "**(b)** Using the table you created in part (a), recreate the following plot showing the density of arrival delays for the top six destinations: _2 points_\n",
        "\n",
        "![arr_delay_density1.png](attachment:arr_delay_density1.png)"
      ]
    },
    {
      "cell_type": "code",
      "execution_count": 11,
      "metadata": {
        "id": "tD4X6bNVgvmq",
        "colab": {
          "base_uri": "https://localhost:8080/",
          "height": 292
        },
        "outputId": "6a791a6b-c459-40ef-a23a-4c4723f981dd"
      },
      "outputs": [
        {
          "output_type": "stream",
          "name": "stderr",
          "text": [
            "Warning message:\n",
            "“\u001b[1m\u001b[22mRemoved 2234 rows containing non-finite values (`stat_density()`).”\n"
          ]
        },
        {
          "output_type": "display_data",
          "data": {
            "text/plain": [
              "plot without title"
            ],
            "image/png": "[encoded data removed]"
          },
          "metadata": {
            "image/png": {
              "width": 300,
              "height": 240
            }
          }
        }
      ],
      "source": [
        "# Your solution here\n",
        "# To achieve this I assigned a vector to the subset data from part (a)\n",
        "# Assigned a color and fill aesthetic corresponding to the top 6 destinations,\n",
        "# Tuned down the alpha aesthetic slightly for transparency \n",
        "# Finally I used the function facet_wrap (faceting for variable \"dest\" to generate separate plots)\n",
        "\n",
        "ggplot(newgraph, aes(x = arr_delay, color = dest, fill = dest)) +\n",
        "  geom_density(alpha = 0.5) + facet_wrap(facet=\"dest\")\n",
        "\n",
        "  "
      ]
    },
    {
      "cell_type": "markdown",
      "metadata": {
        "deletable": false,
        "editable": false,
        "run_control": {
          "frozen": true
        },
        "id": "VRok9269gvmq"
      },
      "source": [
        "**(c)** Adjust the plot from part (b) to recreate the following plot, which only shows flights which had an arrival delay of $\\pm$ 1 hour: _1/2 point_\n",
        "\n",
        "![arr_delay_density2-3.png](attachment:arr_delay_density2-2.png)"
      ]
    },
    {
      "cell_type": "code",
      "execution_count": 17,
      "metadata": {
        "id": "ncPJQgUvgvmq",
        "colab": {
          "base_uri": "https://localhost:8080/",
          "height": 292
        },
        "outputId": "e1b20ae1-08d8-4bec-fa67-af0f35f0a8ea"
      },
      "outputs": [
        {
          "output_type": "stream",
          "name": "stderr",
          "text": [
            "Warning message:\n",
            "“\u001b[1m\u001b[22mRemoved 9252 rows containing non-finite values (`stat_density()`).”\n"
          ]
        },
        {
          "output_type": "display_data",
          "data": {
            "text/plain": [
              "plot without title"
            ],
            "image/png": "[encoded data removed]"
          },
          "metadata": {
            "image/png": {
              "width": 300,
              "height": 240
            }
          }
        }
      ],
      "source": [
        "# Your solution here\n",
        "# First we know from the .png image that we will need to get something that \n",
        "# looks like a normal distribution\n",
        "# Need to filter for flights that only have an arrival delay of +- 60 minutes:\n",
        "# Using xlim? HOW???\n",
        "# Used scale_x_continuous setting limits to column values (-60,60)\n",
        "\n",
        "ggplot(newgraph, aes(x = arr_delay, color = dest, fill = dest)) +\n",
        "  geom_density(alpha = 0.5) + facet_wrap(facet=\"dest\") + scale_x_continuous(limits=c(-60,60))"
      ]
    },
    {
      "cell_type": "markdown",
      "metadata": {
        "deletable": false,
        "editable": false,
        "run_control": {
          "frozen": true
        },
        "id": "eit-jEv9gvmv"
      },
      "source": [
        "## Problem 4: Challenge Problem (2 pts)"
      ]
    },
    {
      "cell_type": "markdown",
      "metadata": {
        "deletable": false,
        "editable": false,
        "run_control": {
          "frozen": true
        },
        "id": "m4eyKh4tgvmv"
      },
      "source": [
        "Each problem set will feature one or two questions that go a bit beyond what we have covered in lab and lecture. The goal of these is for you learn how to use online resources (R's help, Google, Stack Overflow, etc.) to solve programming challenges that you have not encountered before. This is an important skill which you will use constantly as data scientists in the real world."
      ]
    },
    {
      "cell_type": "markdown",
      "metadata": {
        "deletable": false,
        "editable": false,
        "run_control": {
          "frozen": true
        },
        "id": "fu1pOjiLgvmv"
      },
      "source": [
        "Load the `diamonds` data set, and use it to reproduce the following box-and-whisker plot which shows the distribution of diamond price as a function of the quality of its `cut`.\n",
        "\n",
        "![diamonds_boxplot-3.png](attachment:diamonds_boxplot-3.png)"
      ]
    },
    {
      "cell_type": "code",
      "execution_count": 44,
      "metadata": {
        "id": "gcKgLWXKgvmv",
        "colab": {
          "base_uri": "https://localhost:8080/",
          "height": 257
        },
        "outputId": "fa4bf729-5763-4597-e3ce-97fcd7473320"
      },
      "outputs": [
        {
          "output_type": "display_data",
          "data": {
            "text/plain": [
              "plot without title"
            ],
            "image/png": "[encoded data removed]"
          },
          "metadata": {
            "image/png": {
              "width": 300,
              "height": 240
            }
          }
        }
      ],
      "source": [
        "# Your solution here\n",
        "diamondsplot <- ggplot(diamonds, aes(x = price, y = cut)) + geom_boxplot() + labs(\n",
        "  x = \"Price in USD\",\n",
        "  y = \"Quality of Cut\"\n",
        ") + geom_boxplot(fill=\"blue\", alpha=0.45)\n",
        "\n",
        "diamondsplot +\n",
        "  scale_y_discrete(limits = c(\"Ideal\", \"Very Good\", \"Good\", \"Premium\", \"Fair\"))"
      ]
    }
  ],
  "metadata": {
    "kernelspec": {
      "display_name": "R",
      "language": "R",
      "name": "ir"
    },
    "language_info": {
      "codemirror_mode": "r",
      "file_extension": ".r",
      "mimetype": "text/x-r-source",
      "name": "R",
      "pygments_lexer": "r",
      "version": "4.2.1"
    },
    "colab": {
      "provenance": [],
      "include_colab_link": true
    }
  },
  "nbformat": 4,
  "nbformat_minor": 0
}